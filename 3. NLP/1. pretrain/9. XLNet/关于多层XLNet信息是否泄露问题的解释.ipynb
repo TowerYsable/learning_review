{
 "cells": [
  {
   "cell_type": "markdown",
   "metadata": {},
   "source": [
    "# 关于多层XLNet信息是否泄露问题的解释\n",
    "\n",
    "![](./img/two_stream_self_attention.png)"
   ]
  },
  {
   "attachments": {},
   "cell_type": "markdown",
   "metadata": {},
   "source": [
    "假设因子分解顺序为$3 \\to 2 \\to 4 \\to 1$，以$x_{1}$预测为例：\n",
    "\n",
    "$$\\begin{aligned}\n",
    "x_{1} & = f(g_{1}^{(2)}) \\\\\n",
    "& = \\text{Attn}(Q(g_{1}^{(1)}), KV(h_{2 - 4}^{(1)}))\n",
    "\\end{aligned}$$\n",
    "\n",
    "信息是否会泄露取决于$h_{2 - 4}^{(1)}$是否能看到$e(x_{1})$。由于`content attention mask`机制，$h_{2 - 4}^{(1)}$只能看到自身及之前的$h_{z \\lt t}$，例如，$h_{4}^{(1)}$只能看到$e(x_{2 - 4})$，而看不到$e(x_{1})$，如图\n",
    "\n",
    "![](./img/mask.png)\n",
    "\n",
    "因此不会发生信息泄露问题。"
   ]
  },
  {
   "cell_type": "code",
   "execution_count": null,
   "metadata": {},
   "outputs": [],
   "source": []
  }
 ],
 "metadata": {
  "kernelspec": {
   "display_name": "Python 3",
   "language": "python",
   "name": "python3"
  },
  "language_info": {
   "codemirror_mode": {
    "name": "ipython",
    "version": 3
   },
   "file_extension": ".py",
   "mimetype": "text/x-python",
   "name": "python",
   "nbconvert_exporter": "python",
   "pygments_lexer": "ipython3",
   "version": "3.6.9"
  }
 },
 "nbformat": 4,
 "nbformat_minor": 2
}
