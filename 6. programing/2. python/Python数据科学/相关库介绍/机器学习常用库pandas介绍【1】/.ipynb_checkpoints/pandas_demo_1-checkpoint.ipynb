{
 "cells": [
  {
   "cell_type": "markdown",
   "metadata": {
    "toc": true
   },
   "source": [
    "<h1>Table of Contents<span class=\"tocSkip\"></span></h1>\n",
    "<div class=\"toc\"><ul class=\"toc-item\"><li><span><a href=\"#读写数据文件\" data-toc-modified-id=\"读写数据文件-1\"><span class=\"toc-item-num\">1&nbsp;&nbsp;</span>读写数据文件</a></span><ul class=\"toc-item\"><li><span><a href=\"#csv文件\" data-toc-modified-id=\"csv文件-1.1\"><span class=\"toc-item-num\">1.1&nbsp;&nbsp;</span>csv文件</a></span></li><li><span><a href=\"#excel文件\" data-toc-modified-id=\"excel文件-1.2\"><span class=\"toc-item-num\">1.2&nbsp;&nbsp;</span>excel文件</a></span></li></ul></li><li><span><a href=\"#基本数据类型\" data-toc-modified-id=\"基本数据类型-2\"><span class=\"toc-item-num\">2&nbsp;&nbsp;</span>基本数据类型</a></span><ul class=\"toc-item\"><li><span><a href=\"#第一种数据类型：Series\" data-toc-modified-id=\"第一种数据类型：Series-2.1\"><span class=\"toc-item-num\">2.1&nbsp;&nbsp;</span>第一种数据类型：Series</a></span><ul class=\"toc-item\"><li><span><a href=\"#Series的常见属性\" data-toc-modified-id=\"Series的常见属性-2.1.1\"><span class=\"toc-item-num\">2.1.1&nbsp;&nbsp;</span>Series的常见属性</a></span></li><li><span><a href=\"#Series的索引和切片★\" data-toc-modified-id=\"Series的索引和切片★-2.1.2\"><span class=\"toc-item-num\">2.1.2&nbsp;&nbsp;</span>Series的索引和切片★</a></span></li><li><span><a href=\"#Series的增删改\" data-toc-modified-id=\"Series的增删改-2.1.3\"><span class=\"toc-item-num\">2.1.3&nbsp;&nbsp;</span>Series的增删改</a></span></li></ul></li><li><span><a href=\"#第二种数据类型：DataFrame\" data-toc-modified-id=\"第二种数据类型：DataFrame-2.2\"><span class=\"toc-item-num\">2.2&nbsp;&nbsp;</span>第二种数据类型：DataFrame</a></span><ul class=\"toc-item\"><li><span><a href=\"#DataFrame的常见属性\" data-toc-modified-id=\"DataFrame的常见属性-2.2.1\"><span class=\"toc-item-num\">2.2.1&nbsp;&nbsp;</span>DataFrame的常见属性</a></span></li><li><span><a href=\"#DataFrame的索引和切片★\" data-toc-modified-id=\"DataFrame的索引和切片★-2.2.2\"><span class=\"toc-item-num\">2.2.2&nbsp;&nbsp;</span>DataFrame的索引和切片★</a></span></li><li><span><a href=\"#DataFrame的增删改查\" data-toc-modified-id=\"DataFrame的增删改查-2.2.3\"><span class=\"toc-item-num\">2.2.3&nbsp;&nbsp;</span>DataFrame的增删改查</a></span></li></ul></li></ul></li><li><span><a href=\"#对DataFrame进行统计分析★\" data-toc-modified-id=\"对DataFrame进行统计分析★-3\"><span class=\"toc-item-num\">3&nbsp;&nbsp;</span>对DataFrame进行统计分析★</a></span><ul class=\"toc-item\"><li><span><a href=\"#对数据框进行整体的统计描述\" data-toc-modified-id=\"对数据框进行整体的统计描述-3.1\"><span class=\"toc-item-num\">3.1&nbsp;&nbsp;</span>对数据框进行整体的统计描述</a></span></li><li><span><a href=\"#对单个统计量的分析\" data-toc-modified-id=\"对单个统计量的分析-3.2\"><span class=\"toc-item-num\">3.2&nbsp;&nbsp;</span>对单个统计量的分析</a></span></li><li><span><a href=\"#类别变量频次统计\" data-toc-modified-id=\"类别变量频次统计-3.3\"><span class=\"toc-item-num\">3.3&nbsp;&nbsp;</span>类别变量频次统计</a></span></li></ul></li></ul></div>"
   ]
  },
  {
   "cell_type": "markdown",
   "metadata": {},
   "source": [
    "# Pandas基础学习【1】\n",
    "  \n",
    "大家可以参考pandas的文档或一些整理教程进行学习和查询：  \n",
    "\n",
    "**官方快速入门文档：**\n",
    "> https://pandas.pydata.org/docs/getting_started/10min.html#min"
   ]
  },
  {
   "cell_type": "code",
   "execution_count": 81,
   "metadata": {},
   "outputs": [],
   "source": [
    "import numpy as np\n",
    "import pandas as pd"
   ]
  },
  {
   "cell_type": "markdown",
   "metadata": {},
   "source": [
    "## 读写数据文件"
   ]
  },
  {
   "cell_type": "markdown",
   "metadata": {},
   "source": [
    "### csv文件"
   ]
  },
  {
   "cell_type": "code",
   "execution_count": 87,
   "metadata": {
    "scrolled": true
   },
   "outputs": [],
   "source": [
    "df_csv = pd.read_csv('./data/data1_try_read.csv', encoding='utf-8')"
   ]
  },
  {
   "cell_type": "code",
   "execution_count": 88,
   "metadata": {
    "scrolled": false
   },
   "outputs": [
    {
     "data": {
      "text/html": [
       "<div>\n",
       "<style scoped>\n",
       "    .dataframe tbody tr th:only-of-type {\n",
       "        vertical-align: middle;\n",
       "    }\n",
       "\n",
       "    .dataframe tbody tr th {\n",
       "        vertical-align: top;\n",
       "    }\n",
       "\n",
       "    .dataframe thead th {\n",
       "        text-align: right;\n",
       "    }\n",
       "</style>\n",
       "<table border=\"1\" class=\"dataframe\">\n",
       "  <thead>\n",
       "    <tr style=\"text-align: right;\">\n",
       "      <th></th>\n",
       "      <th>城市</th>\n",
       "      <th>猫</th>\n",
       "      <th>年龄</th>\n",
       "      <th>体重</th>\n",
       "    </tr>\n",
       "  </thead>\n",
       "  <tbody>\n",
       "    <tr>\n",
       "      <th>0</th>\n",
       "      <td>北京</td>\n",
       "      <td>波斯</td>\n",
       "      <td>7</td>\n",
       "      <td>8.5</td>\n",
       "    </tr>\n",
       "    <tr>\n",
       "      <th>1</th>\n",
       "      <td>杭州</td>\n",
       "      <td>布偶</td>\n",
       "      <td>1</td>\n",
       "      <td>10.2</td>\n",
       "    </tr>\n",
       "    <tr>\n",
       "      <th>2</th>\n",
       "      <td>曼谷</td>\n",
       "      <td>暹罗</td>\n",
       "      <td>4</td>\n",
       "      <td>6.8</td>\n",
       "    </tr>\n",
       "  </tbody>\n",
       "</table>\n",
       "</div>"
      ],
      "text/plain": [
       "   城市   猫  年龄    体重\n",
       "0  北京  波斯   7   8.5\n",
       "1  杭州  布偶   1  10.2\n",
       "2  曼谷  暹罗   4   6.8"
      ]
     },
     "execution_count": 88,
     "metadata": {},
     "output_type": "execute_result"
    }
   ],
   "source": [
    "# 查看读取数据\n",
    "df_csv"
   ]
  },
  {
   "cell_type": "code",
   "execution_count": 89,
   "metadata": {
    "scrolled": false
   },
   "outputs": [
    {
     "data": {
      "text/html": [
       "<div>\n",
       "<style scoped>\n",
       "    .dataframe tbody tr th:only-of-type {\n",
       "        vertical-align: middle;\n",
       "    }\n",
       "\n",
       "    .dataframe tbody tr th {\n",
       "        vertical-align: top;\n",
       "    }\n",
       "\n",
       "    .dataframe thead th {\n",
       "        text-align: right;\n",
       "    }\n",
       "</style>\n",
       "<table border=\"1\" class=\"dataframe\">\n",
       "  <thead>\n",
       "    <tr style=\"text-align: right;\">\n",
       "      <th></th>\n",
       "      <th>城市</th>\n",
       "      <th>猫</th>\n",
       "      <th>年龄</th>\n",
       "      <th>体重</th>\n",
       "    </tr>\n",
       "  </thead>\n",
       "  <tbody>\n",
       "    <tr>\n",
       "      <th>0</th>\n",
       "      <td>上海</td>\n",
       "      <td>波斯</td>\n",
       "      <td>7</td>\n",
       "      <td>8.5</td>\n",
       "    </tr>\n",
       "    <tr>\n",
       "      <th>1</th>\n",
       "      <td>杭州</td>\n",
       "      <td>布偶</td>\n",
       "      <td>1</td>\n",
       "      <td>10.2</td>\n",
       "    </tr>\n",
       "    <tr>\n",
       "      <th>2</th>\n",
       "      <td>曼谷</td>\n",
       "      <td>暹罗</td>\n",
       "      <td>4</td>\n",
       "      <td>6.8</td>\n",
       "    </tr>\n",
       "  </tbody>\n",
       "</table>\n",
       "</div>"
      ],
      "text/plain": [
       "   城市   猫  年龄    体重\n",
       "0  上海  波斯   7   8.5\n",
       "1  杭州  布偶   1  10.2\n",
       "2  曼谷  暹罗   4   6.8"
      ]
     },
     "execution_count": 89,
     "metadata": {},
     "output_type": "execute_result"
    }
   ],
   "source": [
    "df_csv.loc[0, '城市'] = '上海'\n",
    "df_csv"
   ]
  },
  {
   "cell_type": "code",
   "execution_count": 92,
   "metadata": {},
   "outputs": [],
   "source": [
    "# df_csv.to_csv('./data/data1_try_output.csv', encoding='utf-8')\n",
    "df_csv.to_csv('./data/data1_try_output.tsv', sep='\\t', encoding='utf-8', index=False, header=None)"
   ]
  },
  {
   "cell_type": "markdown",
   "metadata": {},
   "source": [
    "### excel文件"
   ]
  },
  {
   "cell_type": "code",
   "execution_count": 94,
   "metadata": {},
   "outputs": [],
   "source": [
    "df_excel = pd.read_excel('./data/data2_try_read.xlsx')"
   ]
  },
  {
   "cell_type": "code",
   "execution_count": 95,
   "metadata": {},
   "outputs": [
    {
     "data": {
      "text/html": [
       "<div>\n",
       "<style scoped>\n",
       "    .dataframe tbody tr th:only-of-type {\n",
       "        vertical-align: middle;\n",
       "    }\n",
       "\n",
       "    .dataframe tbody tr th {\n",
       "        vertical-align: top;\n",
       "    }\n",
       "\n",
       "    .dataframe thead th {\n",
       "        text-align: right;\n",
       "    }\n",
       "</style>\n",
       "<table border=\"1\" class=\"dataframe\">\n",
       "  <thead>\n",
       "    <tr style=\"text-align: right;\">\n",
       "      <th></th>\n",
       "      <th>科目</th>\n",
       "      <th>成绩</th>\n",
       "      <th>学生</th>\n",
       "    </tr>\n",
       "  </thead>\n",
       "  <tbody>\n",
       "    <tr>\n",
       "      <th>0</th>\n",
       "      <td>英语</td>\n",
       "      <td>100</td>\n",
       "      <td>韩梅梅</td>\n",
       "    </tr>\n",
       "    <tr>\n",
       "      <th>1</th>\n",
       "      <td>数学</td>\n",
       "      <td>90</td>\n",
       "      <td>李雷</td>\n",
       "    </tr>\n",
       "    <tr>\n",
       "      <th>2</th>\n",
       "      <td>语文</td>\n",
       "      <td>59</td>\n",
       "      <td>李雷</td>\n",
       "    </tr>\n",
       "  </tbody>\n",
       "</table>\n",
       "</div>"
      ],
      "text/plain": [
       "   科目   成绩   学生\n",
       "0  英语  100  韩梅梅\n",
       "1  数学   90   李雷\n",
       "2  语文   59   李雷"
      ]
     },
     "execution_count": 95,
     "metadata": {},
     "output_type": "execute_result"
    }
   ],
   "source": [
    "df_excel"
   ]
  },
  {
   "cell_type": "code",
   "execution_count": 96,
   "metadata": {
    "scrolled": false
   },
   "outputs": [
    {
     "data": {
      "text/html": [
       "<div>\n",
       "<style scoped>\n",
       "    .dataframe tbody tr th:only-of-type {\n",
       "        vertical-align: middle;\n",
       "    }\n",
       "\n",
       "    .dataframe tbody tr th {\n",
       "        vertical-align: top;\n",
       "    }\n",
       "\n",
       "    .dataframe thead th {\n",
       "        text-align: right;\n",
       "    }\n",
       "</style>\n",
       "<table border=\"1\" class=\"dataframe\">\n",
       "  <thead>\n",
       "    <tr style=\"text-align: right;\">\n",
       "      <th></th>\n",
       "      <th>科目</th>\n",
       "      <th>成绩</th>\n",
       "      <th>学生</th>\n",
       "    </tr>\n",
       "  </thead>\n",
       "  <tbody>\n",
       "    <tr>\n",
       "      <th>0</th>\n",
       "      <td>英语</td>\n",
       "      <td>100</td>\n",
       "      <td>韩梅梅</td>\n",
       "    </tr>\n",
       "    <tr>\n",
       "      <th>1</th>\n",
       "      <td>数学</td>\n",
       "      <td>90</td>\n",
       "      <td>李雷</td>\n",
       "    </tr>\n",
       "    <tr>\n",
       "      <th>2</th>\n",
       "      <td>语文</td>\n",
       "      <td>59</td>\n",
       "      <td>李雷</td>\n",
       "    </tr>\n",
       "    <tr>\n",
       "      <th>3</th>\n",
       "      <td>语文</td>\n",
       "      <td>60</td>\n",
       "      <td>韩梅梅</td>\n",
       "    </tr>\n",
       "  </tbody>\n",
       "</table>\n",
       "</div>"
      ],
      "text/plain": [
       "   科目   成绩   学生\n",
       "0  英语  100  韩梅梅\n",
       "1  数学   90   李雷\n",
       "2  语文   59   李雷\n",
       "3  语文   60  韩梅梅"
      ]
     },
     "execution_count": 96,
     "metadata": {},
     "output_type": "execute_result"
    }
   ],
   "source": [
    "df_excel.loc[3] = ['语文', 60, '韩梅梅']\n",
    "df_excel"
   ]
  },
  {
   "cell_type": "code",
   "execution_count": 97,
   "metadata": {},
   "outputs": [],
   "source": [
    "df_excel.to_excel('./data/data2_try_output.xlsx', index=None, sheet_name='成绩单')"
   ]
  },
  {
   "cell_type": "markdown",
   "metadata": {},
   "source": [
    "## 基本数据类型"
   ]
  },
  {
   "cell_type": "markdown",
   "metadata": {},
   "source": [
    "### 第一种数据类型：Series"
   ]
  },
  {
   "cell_type": "code",
   "execution_count": 115,
   "metadata": {
    "scrolled": true
   },
   "outputs": [
    {
     "data": {
      "text/plain": [
       "101    1\n",
       "102    2\n",
       "103    3\n",
       "104    4\n",
       "dtype: int64"
      ]
     },
     "execution_count": 115,
     "metadata": {},
     "output_type": "execute_result"
    }
   ],
   "source": [
    "sr1 = pd.Series([1, 2, 3, 4], index=[101, 102, 103, 104])\n",
    "sr1"
   ]
  },
  {
   "cell_type": "markdown",
   "metadata": {},
   "source": [
    "#### Series的常见属性"
   ]
  },
  {
   "cell_type": "code",
   "execution_count": 99,
   "metadata": {
    "scrolled": false
   },
   "outputs": [
    {
     "data": {
      "text/plain": [
       "dtype('int64')"
      ]
     },
     "execution_count": 99,
     "metadata": {},
     "output_type": "execute_result"
    }
   ],
   "source": [
    "sr1.dtype"
   ]
  },
  {
   "cell_type": "code",
   "execution_count": 100,
   "metadata": {},
   "outputs": [],
   "source": [
    "sr1.name"
   ]
  },
  {
   "cell_type": "code",
   "execution_count": 101,
   "metadata": {
    "scrolled": true
   },
   "outputs": [
    {
     "data": {
      "text/plain": [
       "101    1\n",
       "102    2\n",
       "103    3\n",
       "104    4\n",
       "Name: 有名字了, dtype: int64"
      ]
     },
     "execution_count": 101,
     "metadata": {},
     "output_type": "execute_result"
    }
   ],
   "source": [
    "sr1.name = '有名字了'\n",
    "sr1"
   ]
  },
  {
   "cell_type": "code",
   "execution_count": 102,
   "metadata": {
    "scrolled": true
   },
   "outputs": [
    {
     "data": {
      "text/plain": [
       "'有名字了'"
      ]
     },
     "execution_count": 102,
     "metadata": {},
     "output_type": "execute_result"
    }
   ],
   "source": [
    "sr1.name"
   ]
  },
  {
   "cell_type": "code",
   "execution_count": 39,
   "metadata": {
    "scrolled": false
   },
   "outputs": [
    {
     "data": {
      "text/plain": [
       "Int64Index([101, 102, 103, 104], dtype='int64')"
      ]
     },
     "execution_count": 39,
     "metadata": {},
     "output_type": "execute_result"
    }
   ],
   "source": [
    "sr1.index"
   ]
  },
  {
   "cell_type": "code",
   "execution_count": 40,
   "metadata": {},
   "outputs": [
    {
     "data": {
      "text/plain": [
       "array([1, 2, 3, 4], dtype=int64)"
      ]
     },
     "execution_count": 40,
     "metadata": {},
     "output_type": "execute_result"
    }
   ],
   "source": [
    "sr1.values"
   ]
  },
  {
   "cell_type": "markdown",
   "metadata": {},
   "source": [
    "#### Series的索引和切片★"
   ]
  },
  {
   "cell_type": "markdown",
   "metadata": {},
   "source": [
    "*简单索引和切片* **（不推荐！）**"
   ]
  },
  {
   "cell_type": "code",
   "execution_count": 42,
   "metadata": {},
   "outputs": [
    {
     "data": {
      "text/plain": [
       "2"
      ]
     },
     "execution_count": 42,
     "metadata": {},
     "output_type": "execute_result"
    }
   ],
   "source": [
    "# 索引默认是loc\n",
    "sr1[102]"
   ]
  },
  {
   "cell_type": "code",
   "execution_count": 46,
   "metadata": {},
   "outputs": [
    {
     "data": {
      "text/plain": [
       "Series([], Name: 有名字了, dtype: int64)"
      ]
     },
     "execution_count": 46,
     "metadata": {},
     "output_type": "execute_result"
    }
   ],
   "source": [
    "# 切片默认是iloc\n",
    "sr1[102:103]"
   ]
  },
  {
   "cell_type": "code",
   "execution_count": 103,
   "metadata": {
    "scrolled": false
   },
   "outputs": [
    {
     "data": {
      "text/plain": [
       "102    2\n",
       "Name: 有名字了, dtype: int64"
      ]
     },
     "execution_count": 103,
     "metadata": {},
     "output_type": "execute_result"
    }
   ],
   "source": [
    "sr1[1:2]"
   ]
  },
  {
   "cell_type": "markdown",
   "metadata": {},
   "source": [
    "*按索引名称*"
   ]
  },
  {
   "cell_type": "code",
   "execution_count": 44,
   "metadata": {},
   "outputs": [
    {
     "data": {
      "text/plain": [
       "2"
      ]
     },
     "execution_count": 44,
     "metadata": {},
     "output_type": "execute_result"
    }
   ],
   "source": [
    "sr1.loc[102]"
   ]
  },
  {
   "cell_type": "code",
   "execution_count": 48,
   "metadata": {
    "scrolled": false
   },
   "outputs": [
    {
     "data": {
      "text/plain": [
       "102    2\n",
       "103    3\n",
       "Name: 有名字了, dtype: int64"
      ]
     },
     "execution_count": 48,
     "metadata": {},
     "output_type": "execute_result"
    }
   ],
   "source": [
    "sr1.loc[102:103]"
   ]
  },
  {
   "cell_type": "code",
   "execution_count": 50,
   "metadata": {
    "scrolled": false
   },
   "outputs": [
    {
     "data": {
      "text/plain": [
       "101    1\n",
       "103    3\n",
       "Name: 有名字了, dtype: int64"
      ]
     },
     "execution_count": 50,
     "metadata": {},
     "output_type": "execute_result"
    }
   ],
   "source": [
    "sr1.loc[[101, 103]]"
   ]
  },
  {
   "cell_type": "code",
   "execution_count": 104,
   "metadata": {
    "scrolled": false
   },
   "outputs": [
    {
     "data": {
      "text/plain": [
       "101    1\n",
       "104    4\n",
       "Name: 有名字了, dtype: int64"
      ]
     },
     "execution_count": 104,
     "metadata": {},
     "output_type": "execute_result"
    }
   ],
   "source": [
    "sr1.loc[[True, False, False, True]]"
   ]
  },
  {
   "cell_type": "code",
   "execution_count": 105,
   "metadata": {
    "scrolled": false
   },
   "outputs": [
    {
     "data": {
      "text/plain": [
       "101    False\n",
       "102    False\n",
       "103     True\n",
       "104     True\n",
       "Name: 有名字了, dtype: bool"
      ]
     },
     "execution_count": 105,
     "metadata": {},
     "output_type": "execute_result"
    }
   ],
   "source": [
    "sr1>2"
   ]
  },
  {
   "cell_type": "code",
   "execution_count": 106,
   "metadata": {
    "scrolled": true
   },
   "outputs": [
    {
     "data": {
      "text/plain": [
       "103    3\n",
       "104    4\n",
       "Name: 有名字了, dtype: int64"
      ]
     },
     "execution_count": 106,
     "metadata": {},
     "output_type": "execute_result"
    }
   ],
   "source": [
    "# 布尔型的索引\n",
    "sr1.loc[sr1>2]"
   ]
  },
  {
   "cell_type": "markdown",
   "metadata": {},
   "source": [
    "*按索引下标*"
   ]
  },
  {
   "cell_type": "code",
   "execution_count": 45,
   "metadata": {
    "scrolled": true
   },
   "outputs": [
    {
     "data": {
      "text/plain": [
       "3"
      ]
     },
     "execution_count": 45,
     "metadata": {},
     "output_type": "execute_result"
    }
   ],
   "source": [
    "sr1.iloc[2]"
   ]
  },
  {
   "cell_type": "code",
   "execution_count": 49,
   "metadata": {
    "scrolled": true
   },
   "outputs": [
    {
     "data": {
      "text/plain": [
       "103    3\n",
       "Name: 有名字了, dtype: int64"
      ]
     },
     "execution_count": 49,
     "metadata": {},
     "output_type": "execute_result"
    }
   ],
   "source": [
    "sr1.iloc[2:3]"
   ]
  },
  {
   "cell_type": "code",
   "execution_count": 107,
   "metadata": {
    "scrolled": true
   },
   "outputs": [
    {
     "data": {
      "text/plain": [
       "102    2\n",
       "104    4\n",
       "Name: 有名字了, dtype: int64"
      ]
     },
     "execution_count": 107,
     "metadata": {},
     "output_type": "execute_result"
    }
   ],
   "source": [
    "sr1.iloc[[1, 3]]"
   ]
  },
  {
   "cell_type": "markdown",
   "metadata": {},
   "source": [
    "*按逻辑索引*  \n",
    "> **注意：**只能用`loc`的索引方式（`简单索引方式`默认就是`loc`）来使用`逻辑索引`，`iloc`方式不支持"
   ]
  },
  {
   "cell_type": "code",
   "execution_count": 118,
   "metadata": {},
   "outputs": [
    {
     "data": {
      "text/plain": [
       "103    3\n",
       "104    4\n",
       "Name: 有名字了, dtype: int64"
      ]
     },
     "execution_count": 118,
     "metadata": {},
     "output_type": "execute_result"
    }
   ],
   "source": [
    "sr1[sr1>2]"
   ]
  },
  {
   "cell_type": "code",
   "execution_count": 119,
   "metadata": {
    "scrolled": true
   },
   "outputs": [
    {
     "data": {
      "text/plain": [
       "103    3\n",
       "104    4\n",
       "Name: 有名字了, dtype: int64"
      ]
     },
     "execution_count": 119,
     "metadata": {},
     "output_type": "execute_result"
    }
   ],
   "source": [
    "sr1.loc[sr1>2]"
   ]
  },
  {
   "cell_type": "markdown",
   "metadata": {},
   "source": [
    "#### Series的增删改"
   ]
  },
  {
   "cell_type": "markdown",
   "metadata": {},
   "source": [
    "**增添和更改值**  \n",
    "实际上，增和改就是在索引定位的基础上进行赋值操作"
   ]
  },
  {
   "cell_type": "code",
   "execution_count": 116,
   "metadata": {
    "scrolled": true
   },
   "outputs": [
    {
     "data": {
      "text/plain": [
       "101    1\n",
       "102    2\n",
       "103    3\n",
       "104    4\n",
       "dtype: int64"
      ]
     },
     "execution_count": 116,
     "metadata": {},
     "output_type": "execute_result"
    }
   ],
   "source": [
    "# 原始Series\n",
    "sr1"
   ]
  },
  {
   "cell_type": "code",
   "execution_count": 117,
   "metadata": {
    "scrolled": false
   },
   "outputs": [
    {
     "data": {
      "text/plain": [
       "101    666\n",
       "102      2\n",
       "103      3\n",
       "104      4\n",
       "dtype: int64"
      ]
     },
     "execution_count": 117,
     "metadata": {},
     "output_type": "execute_result"
    }
   ],
   "source": [
    "# 按索引更改单个值\n",
    "sr1.loc[101] = 666\n",
    "sr1"
   ]
  },
  {
   "cell_type": "code",
   "execution_count": 118,
   "metadata": {},
   "outputs": [
    {
     "data": {
      "text/plain": [
       "101    666\n",
       "102      2\n",
       "103     33\n",
       "104     44\n",
       "dtype: int64"
      ]
     },
     "execution_count": 118,
     "metadata": {},
     "output_type": "execute_result"
    }
   ],
   "source": [
    "# 按切片更改多个值\n",
    "sr1.iloc[2:4] = [33, 44]\n",
    "sr1"
   ]
  },
  {
   "cell_type": "code",
   "execution_count": 119,
   "metadata": {},
   "outputs": [
    {
     "data": {
      "text/plain": [
       "101    False\n",
       "102    False\n",
       "103     True\n",
       "104     True\n",
       "dtype: bool"
      ]
     },
     "execution_count": 119,
     "metadata": {},
     "output_type": "execute_result"
    }
   ],
   "source": [
    "(sr1>10) & (sr1<100)"
   ]
  },
  {
   "cell_type": "code",
   "execution_count": 120,
   "metadata": {},
   "outputs": [
    {
     "data": {
      "text/plain": [
       "101    666\n",
       "102      2\n",
       "103      0\n",
       "104      0\n",
       "dtype: int64"
      ]
     },
     "execution_count": 120,
     "metadata": {},
     "output_type": "execute_result"
    }
   ],
   "source": [
    "# 按逻辑索引更改符合条件的多个值\n",
    "sr1.loc[(sr1>10) & (sr1<100)] = 0\n",
    "sr1"
   ]
  },
  {
   "cell_type": "code",
   "execution_count": 121,
   "metadata": {
    "scrolled": true
   },
   "outputs": [
    {
     "data": {
      "text/plain": [
       "101    666\n",
       "102      2\n",
       "103      0\n",
       "104      0\n",
       "105      5\n",
       "dtype: int64"
      ]
     },
     "execution_count": 121,
     "metadata": {},
     "output_type": "execute_result"
    }
   ],
   "source": [
    "# 增加一个值\n",
    "sr1.loc[105] = 5\n",
    "sr1"
   ]
  },
  {
   "cell_type": "markdown",
   "metadata": {},
   "source": [
    "**删除值**  \n",
    "实际上，删除就是在索引定位的基础上进行`drop`操作  \n",
    "> 注意：  \n",
    "* drop删除只能使用名称索引  \n",
    "* drop方法仅返回一个新对象，不影响原Series，要更改原Series对象则需要设置inplace参数"
   ]
  },
  {
   "cell_type": "code",
   "execution_count": 124,
   "metadata": {
    "scrolled": true
   },
   "outputs": [
    {
     "data": {
      "text/plain": [
       "101    666\n",
       "103      0\n",
       "104      0\n",
       "105      5\n",
       "dtype: int64"
      ]
     },
     "execution_count": 124,
     "metadata": {},
     "output_type": "execute_result"
    }
   ],
   "source": [
    "sr1.drop(102)"
   ]
  },
  {
   "cell_type": "code",
   "execution_count": 125,
   "metadata": {
    "scrolled": true
   },
   "outputs": [
    {
     "data": {
      "text/plain": [
       "101    666\n",
       "102      2\n",
       "103      0\n",
       "104      0\n",
       "105      5\n",
       "dtype: int64"
      ]
     },
     "execution_count": 125,
     "metadata": {},
     "output_type": "execute_result"
    }
   ],
   "source": [
    "# 注意，drop方法仅返回一个新对象，不影响原Series\n",
    "sr1"
   ]
  },
  {
   "cell_type": "code",
   "execution_count": 126,
   "metadata": {
    "scrolled": false
   },
   "outputs": [
    {
     "data": {
      "text/plain": [
       "101    666\n",
       "103      0\n",
       "104      0\n",
       "105      5\n",
       "dtype: int64"
      ]
     },
     "execution_count": 126,
     "metadata": {},
     "output_type": "execute_result"
    }
   ],
   "source": [
    "sr1.drop(102, inplace=True)\n",
    "sr1"
   ]
  },
  {
   "cell_type": "code",
   "execution_count": 132,
   "metadata": {
    "scrolled": false
   },
   "outputs": [
    {
     "data": {
      "text/plain": [
       "101    666\n",
       "103      0\n",
       "104      0\n",
       "105      5\n",
       "105      2\n",
       "dtype: int64"
      ]
     },
     "execution_count": 132,
     "metadata": {},
     "output_type": "execute_result"
    }
   ],
   "source": [
    "sr1.append(pd.Series([2], index=[105]), verify_integrity=False)"
   ]
  },
  {
   "cell_type": "code",
   "execution_count": 133,
   "metadata": {},
   "outputs": [
    {
     "data": {
      "text/plain": [
       "101    666\n",
       "103      0\n",
       "104      0\n",
       "105      5\n",
       "dtype: int64"
      ]
     },
     "execution_count": 133,
     "metadata": {},
     "output_type": "execute_result"
    }
   ],
   "source": [
    "sr1"
   ]
  },
  {
   "cell_type": "markdown",
   "metadata": {},
   "source": [
    "### 第二种数据类型：DataFrame"
   ]
  },
  {
   "cell_type": "code",
   "execution_count": 52,
   "metadata": {
    "scrolled": false
   },
   "outputs": [
    {
     "data": {
      "text/html": [
       "<div>\n",
       "<style scoped>\n",
       "    .dataframe tbody tr th:only-of-type {\n",
       "        vertical-align: middle;\n",
       "    }\n",
       "\n",
       "    .dataframe tbody tr th {\n",
       "        vertical-align: top;\n",
       "    }\n",
       "\n",
       "    .dataframe thead th {\n",
       "        text-align: right;\n",
       "    }\n",
       "</style>\n",
       "<table border=\"1\" class=\"dataframe\">\n",
       "  <thead>\n",
       "    <tr style=\"text-align: right;\">\n",
       "      <th></th>\n",
       "      <th>a</th>\n",
       "      <th>b</th>\n",
       "    </tr>\n",
       "  </thead>\n",
       "  <tbody>\n",
       "    <tr>\n",
       "      <th>101</th>\n",
       "      <td>1</td>\n",
       "      <td>4</td>\n",
       "    </tr>\n",
       "    <tr>\n",
       "      <th>102</th>\n",
       "      <td>2</td>\n",
       "      <td>5</td>\n",
       "    </tr>\n",
       "    <tr>\n",
       "      <th>103</th>\n",
       "      <td>3</td>\n",
       "      <td>6</td>\n",
       "    </tr>\n",
       "  </tbody>\n",
       "</table>\n",
       "</div>"
      ],
      "text/plain": [
       "     a  b\n",
       "101  1  4\n",
       "102  2  5\n",
       "103  3  6"
      ]
     },
     "execution_count": 52,
     "metadata": {},
     "output_type": "execute_result"
    }
   ],
   "source": [
    "df1 = pd.DataFrame({\"a\": [1, 2, 3], \"b\": [4, 5, 6]},\n",
    "                   index=[101, 102, 103])\n",
    "df1"
   ]
  },
  {
   "cell_type": "code",
   "execution_count": 135,
   "metadata": {},
   "outputs": [
    {
     "data": {
      "text/html": [
       "<div>\n",
       "<style scoped>\n",
       "    .dataframe tbody tr th:only-of-type {\n",
       "        vertical-align: middle;\n",
       "    }\n",
       "\n",
       "    .dataframe tbody tr th {\n",
       "        vertical-align: top;\n",
       "    }\n",
       "\n",
       "    .dataframe thead th {\n",
       "        text-align: right;\n",
       "    }\n",
       "</style>\n",
       "<table border=\"1\" class=\"dataframe\">\n",
       "  <thead>\n",
       "    <tr style=\"text-align: right;\">\n",
       "      <th></th>\n",
       "      <th>年龄</th>\n",
       "      <th>价格</th>\n",
       "      <th>金额</th>\n",
       "      <th>人口</th>\n",
       "    </tr>\n",
       "  </thead>\n",
       "  <tbody>\n",
       "    <tr>\n",
       "      <th>101</th>\n",
       "      <td>1</td>\n",
       "      <td>2</td>\n",
       "      <td>3</td>\n",
       "      <td>4</td>\n",
       "    </tr>\n",
       "    <tr>\n",
       "      <th>102</th>\n",
       "      <td>5</td>\n",
       "      <td>6</td>\n",
       "      <td>7</td>\n",
       "      <td>8</td>\n",
       "    </tr>\n",
       "    <tr>\n",
       "      <th>103</th>\n",
       "      <td>9</td>\n",
       "      <td>10</td>\n",
       "      <td>11</td>\n",
       "      <td>12</td>\n",
       "    </tr>\n",
       "  </tbody>\n",
       "</table>\n",
       "</div>"
      ],
      "text/plain": [
       "     年龄  价格  金额  人口\n",
       "101   1   2   3   4\n",
       "102   5   6   7   8\n",
       "103   9  10  11  12"
      ]
     },
     "execution_count": 135,
     "metadata": {},
     "output_type": "execute_result"
    }
   ],
   "source": [
    "df2 = pd.DataFrame(np.arange(1, 13).reshape((3, 4)),\n",
    "                   index=[101, 102, 103],\n",
    "                   columns=[\"年龄\", \"价格\", \"金额\", \"人口\"])\n",
    "df2"
   ]
  },
  {
   "cell_type": "markdown",
   "metadata": {},
   "source": [
    "#### DataFrame的常见属性"
   ]
  },
  {
   "cell_type": "code",
   "execution_count": 71,
   "metadata": {
    "scrolled": true
   },
   "outputs": [
    {
     "data": {
      "text/plain": [
       "a    int64\n",
       "b    int64\n",
       "dtype: object"
      ]
     },
     "execution_count": 71,
     "metadata": {},
     "output_type": "execute_result"
    }
   ],
   "source": [
    "df1.dtypes"
   ]
  },
  {
   "cell_type": "code",
   "execution_count": 72,
   "metadata": {},
   "outputs": [
    {
     "data": {
      "text/plain": [
       "Index(['a', 'b'], dtype='object')"
      ]
     },
     "execution_count": 72,
     "metadata": {},
     "output_type": "execute_result"
    }
   ],
   "source": [
    "df1.columns"
   ]
  },
  {
   "cell_type": "code",
   "execution_count": 73,
   "metadata": {},
   "outputs": [
    {
     "data": {
      "text/plain": [
       "Int64Index([101, 102, 103], dtype='int64')"
      ]
     },
     "execution_count": 73,
     "metadata": {},
     "output_type": "execute_result"
    }
   ],
   "source": [
    "df1.index"
   ]
  },
  {
   "cell_type": "code",
   "execution_count": 74,
   "metadata": {},
   "outputs": [
    {
     "data": {
      "text/plain": [
       "array([[1, 4],\n",
       "       [2, 5],\n",
       "       [3, 6]], dtype=int64)"
      ]
     },
     "execution_count": 74,
     "metadata": {},
     "output_type": "execute_result"
    }
   ],
   "source": [
    "df1.values"
   ]
  },
  {
   "cell_type": "code",
   "execution_count": 75,
   "metadata": {},
   "outputs": [
    {
     "data": {
      "text/plain": [
       "(3, 2)"
      ]
     },
     "execution_count": 75,
     "metadata": {},
     "output_type": "execute_result"
    }
   ],
   "source": [
    "df1.shape"
   ]
  },
  {
   "cell_type": "code",
   "execution_count": 76,
   "metadata": {},
   "outputs": [
    {
     "data": {
      "text/plain": [
       "6"
      ]
     },
     "execution_count": 76,
     "metadata": {},
     "output_type": "execute_result"
    }
   ],
   "source": [
    "df1.size"
   ]
  },
  {
   "cell_type": "code",
   "execution_count": 77,
   "metadata": {
    "scrolled": true
   },
   "outputs": [
    {
     "data": {
      "text/plain": [
       "2"
      ]
     },
     "execution_count": 77,
     "metadata": {},
     "output_type": "execute_result"
    }
   ],
   "source": [
    "df1.ndim"
   ]
  },
  {
   "cell_type": "markdown",
   "metadata": {},
   "source": [
    "#### DataFrame的索引和切片★"
   ]
  },
  {
   "cell_type": "markdown",
   "metadata": {},
   "source": [
    "*简单 `列` 索引（查字典方式）*  \n",
    "> 注意：列切片没有简单方式"
   ]
  },
  {
   "cell_type": "code",
   "execution_count": 78,
   "metadata": {
    "scrolled": true
   },
   "outputs": [
    {
     "data": {
      "text/plain": [
       "101    1\n",
       "102    5\n",
       "103    9\n",
       "Name: 年龄, dtype: int32"
      ]
     },
     "execution_count": 78,
     "metadata": {},
     "output_type": "execute_result"
    }
   ],
   "source": [
    "# 列的简单索引第一种方式（重点，特别常用）\n",
    "df2['年龄']"
   ]
  },
  {
   "cell_type": "code",
   "execution_count": 80,
   "metadata": {
    "scrolled": true
   },
   "outputs": [
    {
     "data": {
      "text/plain": [
       "101    1\n",
       "102    5\n",
       "103    9\n",
       "Name: 年龄, dtype: int32"
      ]
     },
     "execution_count": 80,
     "metadata": {},
     "output_type": "execute_result"
    }
   ],
   "source": [
    "# 列的简单索引第二种方式（不推荐！）\n",
    "df2.年龄"
   ]
  },
  {
   "cell_type": "code",
   "execution_count": 85,
   "metadata": {
    "scrolled": false
   },
   "outputs": [
    {
     "data": {
      "text/html": [
       "<div>\n",
       "<style scoped>\n",
       "    .dataframe tbody tr th:only-of-type {\n",
       "        vertical-align: middle;\n",
       "    }\n",
       "\n",
       "    .dataframe tbody tr th {\n",
       "        vertical-align: top;\n",
       "    }\n",
       "\n",
       "    .dataframe thead th {\n",
       "        text-align: right;\n",
       "    }\n",
       "</style>\n",
       "<table border=\"1\" class=\"dataframe\">\n",
       "  <thead>\n",
       "    <tr style=\"text-align: right;\">\n",
       "      <th></th>\n",
       "      <th>年龄</th>\n",
       "      <th>金额</th>\n",
       "    </tr>\n",
       "  </thead>\n",
       "  <tbody>\n",
       "    <tr>\n",
       "      <th>101</th>\n",
       "      <td>1</td>\n",
       "      <td>3</td>\n",
       "    </tr>\n",
       "    <tr>\n",
       "      <th>102</th>\n",
       "      <td>5</td>\n",
       "      <td>7</td>\n",
       "    </tr>\n",
       "    <tr>\n",
       "      <th>103</th>\n",
       "      <td>9</td>\n",
       "      <td>11</td>\n",
       "    </tr>\n",
       "  </tbody>\n",
       "</table>\n",
       "</div>"
      ],
      "text/plain": [
       "     年龄  金额\n",
       "101   1   3\n",
       "102   5   7\n",
       "103   9  11"
      ]
     },
     "execution_count": 85,
     "metadata": {},
     "output_type": "execute_result"
    }
   ],
   "source": [
    "# 多个列同时索引（常用）\n",
    "df2[['年龄', '金额']]"
   ]
  },
  {
   "cell_type": "markdown",
   "metadata": {},
   "source": [
    "*简单`行`索引（**逻辑索引方式**）*"
   ]
  },
  {
   "cell_type": "code",
   "execution_count": 87,
   "metadata": {
    "scrolled": true
   },
   "outputs": [
    {
     "data": {
      "text/html": [
       "<div>\n",
       "<style scoped>\n",
       "    .dataframe tbody tr th:only-of-type {\n",
       "        vertical-align: middle;\n",
       "    }\n",
       "\n",
       "    .dataframe tbody tr th {\n",
       "        vertical-align: top;\n",
       "    }\n",
       "\n",
       "    .dataframe thead th {\n",
       "        text-align: right;\n",
       "    }\n",
       "</style>\n",
       "<table border=\"1\" class=\"dataframe\">\n",
       "  <thead>\n",
       "    <tr style=\"text-align: right;\">\n",
       "      <th></th>\n",
       "      <th>年龄</th>\n",
       "      <th>价格</th>\n",
       "      <th>金额</th>\n",
       "      <th>人口</th>\n",
       "    </tr>\n",
       "  </thead>\n",
       "  <tbody>\n",
       "    <tr>\n",
       "      <th>102</th>\n",
       "      <td>5</td>\n",
       "      <td>6</td>\n",
       "      <td>7</td>\n",
       "      <td>8</td>\n",
       "    </tr>\n",
       "    <tr>\n",
       "      <th>103</th>\n",
       "      <td>9</td>\n",
       "      <td>10</td>\n",
       "      <td>11</td>\n",
       "      <td>12</td>\n",
       "    </tr>\n",
       "  </tbody>\n",
       "</table>\n",
       "</div>"
      ],
      "text/plain": [
       "     年龄  价格  金额  人口\n",
       "102   5   6   7   8\n",
       "103   9  10  11  12"
      ]
     },
     "execution_count": 87,
     "metadata": {},
     "output_type": "execute_result"
    }
   ],
   "source": [
    "df2[[False, True, True]]"
   ]
  },
  {
   "cell_type": "code",
   "execution_count": 88,
   "metadata": {
    "scrolled": true
   },
   "outputs": [
    {
     "data": {
      "text/html": [
       "<div>\n",
       "<style scoped>\n",
       "    .dataframe tbody tr th:only-of-type {\n",
       "        vertical-align: middle;\n",
       "    }\n",
       "\n",
       "    .dataframe tbody tr th {\n",
       "        vertical-align: top;\n",
       "    }\n",
       "\n",
       "    .dataframe thead th {\n",
       "        text-align: right;\n",
       "    }\n",
       "</style>\n",
       "<table border=\"1\" class=\"dataframe\">\n",
       "  <thead>\n",
       "    <tr style=\"text-align: right;\">\n",
       "      <th></th>\n",
       "      <th>年龄</th>\n",
       "      <th>价格</th>\n",
       "      <th>金额</th>\n",
       "      <th>人口</th>\n",
       "    </tr>\n",
       "  </thead>\n",
       "  <tbody>\n",
       "    <tr>\n",
       "      <th>101</th>\n",
       "      <td>1</td>\n",
       "      <td>2</td>\n",
       "      <td>3</td>\n",
       "      <td>4</td>\n",
       "    </tr>\n",
       "    <tr>\n",
       "      <th>102</th>\n",
       "      <td>5</td>\n",
       "      <td>6</td>\n",
       "      <td>7</td>\n",
       "      <td>8</td>\n",
       "    </tr>\n",
       "  </tbody>\n",
       "</table>\n",
       "</div>"
      ],
      "text/plain": [
       "     年龄  价格  金额  人口\n",
       "101   1   2   3   4\n",
       "102   5   6   7   8"
      ]
     },
     "execution_count": 88,
     "metadata": {},
     "output_type": "execute_result"
    }
   ],
   "source": [
    "df2[df2['人口']<10]"
   ]
  },
  {
   "cell_type": "markdown",
   "metadata": {},
   "source": [
    "**更规范的单个值索引**`at`与`iat`  \n",
    "> **重点：**单个值索引用`at`与`iat`最高效，不要用别的方式"
   ]
  },
  {
   "cell_type": "code",
   "execution_count": 89,
   "metadata": {},
   "outputs": [
    {
     "data": {
      "text/plain": [
       "7"
      ]
     },
     "execution_count": 89,
     "metadata": {},
     "output_type": "execute_result"
    }
   ],
   "source": [
    "# 单个值以行列名称索引\n",
    "df2.at[102, '金额']"
   ]
  },
  {
   "cell_type": "code",
   "execution_count": 91,
   "metadata": {
    "scrolled": true
   },
   "outputs": [
    {
     "data": {
      "text/plain": [
       "7"
      ]
     },
     "execution_count": 91,
     "metadata": {},
     "output_type": "execute_result"
    }
   ],
   "source": [
    "# 单个值以行列下标索引\n",
    "df2.iat[1, 2]"
   ]
  },
  {
   "cell_type": "markdown",
   "metadata": {},
   "source": [
    "**更规范的多个值索引或切片**`loc`与`iloc`  \n",
    "> **重点：**只要涉及到行列同时定位的多个值索引或切片，一律使用`loc`与`iloc`  \n",
    "  \n",
    "> **注意：**\n",
    "* 使用`loc`时，可以混合使用`单个索引`、`列表形式多个索引`、`逻辑索引`，而且使用名称的方式代码可读性更高，**应优先考虑使用`loc`**  \n",
    "* 但使用`iloc`时，只可以混合使用`单个索引`、`列表形式多个索引`，无法使用`逻辑索引`"
   ]
  },
  {
   "cell_type": "code",
   "execution_count": 92,
   "metadata": {
    "scrolled": true
   },
   "outputs": [
    {
     "data": {
      "text/plain": [
       "年龄    5\n",
       "价格    6\n",
       "人口    8\n",
       "Name: 102, dtype: int32"
      ]
     },
     "execution_count": 92,
     "metadata": {},
     "output_type": "execute_result"
    }
   ],
   "source": [
    "# 多个值以行列名称索引示例1\n",
    "df2.loc[102, ['年龄', '价格', '人口']]"
   ]
  },
  {
   "cell_type": "code",
   "execution_count": 96,
   "metadata": {
    "scrolled": false
   },
   "outputs": [
    {
     "data": {
      "text/html": [
       "<div>\n",
       "<style scoped>\n",
       "    .dataframe tbody tr th:only-of-type {\n",
       "        vertical-align: middle;\n",
       "    }\n",
       "\n",
       "    .dataframe tbody tr th {\n",
       "        vertical-align: top;\n",
       "    }\n",
       "\n",
       "    .dataframe thead th {\n",
       "        text-align: right;\n",
       "    }\n",
       "</style>\n",
       "<table border=\"1\" class=\"dataframe\">\n",
       "  <thead>\n",
       "    <tr style=\"text-align: right;\">\n",
       "      <th></th>\n",
       "      <th>价格</th>\n",
       "      <th>金额</th>\n",
       "    </tr>\n",
       "  </thead>\n",
       "  <tbody>\n",
       "    <tr>\n",
       "      <th>101</th>\n",
       "      <td>2</td>\n",
       "      <td>3</td>\n",
       "    </tr>\n",
       "    <tr>\n",
       "      <th>103</th>\n",
       "      <td>10</td>\n",
       "      <td>11</td>\n",
       "    </tr>\n",
       "  </tbody>\n",
       "</table>\n",
       "</div>"
      ],
      "text/plain": [
       "     价格  金额\n",
       "101   2   3\n",
       "103  10  11"
      ]
     },
     "execution_count": 96,
     "metadata": {},
     "output_type": "execute_result"
    }
   ],
   "source": [
    "# 多个值以行列名称索引示例2\n",
    "df2.loc[[101, 103], '价格':'金额']"
   ]
  },
  {
   "cell_type": "code",
   "execution_count": 98,
   "metadata": {
    "scrolled": false
   },
   "outputs": [
    {
     "data": {
      "text/html": [
       "<div>\n",
       "<style scoped>\n",
       "    .dataframe tbody tr th:only-of-type {\n",
       "        vertical-align: middle;\n",
       "    }\n",
       "\n",
       "    .dataframe tbody tr th {\n",
       "        vertical-align: top;\n",
       "    }\n",
       "\n",
       "    .dataframe thead th {\n",
       "        text-align: right;\n",
       "    }\n",
       "</style>\n",
       "<table border=\"1\" class=\"dataframe\">\n",
       "  <thead>\n",
       "    <tr style=\"text-align: right;\">\n",
       "      <th></th>\n",
       "      <th>金额</th>\n",
       "      <th>人口</th>\n",
       "    </tr>\n",
       "  </thead>\n",
       "  <tbody>\n",
       "    <tr>\n",
       "      <th>102</th>\n",
       "      <td>7</td>\n",
       "      <td>8</td>\n",
       "    </tr>\n",
       "    <tr>\n",
       "      <th>103</th>\n",
       "      <td>11</td>\n",
       "      <td>12</td>\n",
       "    </tr>\n",
       "  </tbody>\n",
       "</table>\n",
       "</div>"
      ],
      "text/plain": [
       "     金额  人口\n",
       "102   7   8\n",
       "103  11  12"
      ]
     },
     "execution_count": 98,
     "metadata": {},
     "output_type": "execute_result"
    }
   ],
   "source": [
    "# 多个值以行列名称索引示例3\n",
    "df2.loc[df2['价格']>4, '金额':'人口']"
   ]
  },
  {
   "cell_type": "code",
   "execution_count": 100,
   "metadata": {
    "scrolled": false
   },
   "outputs": [
    {
     "data": {
      "text/plain": [
       "年龄     9\n",
       "金额    11\n",
       "人口    12\n",
       "Name: 103, dtype: int32"
      ]
     },
     "execution_count": 100,
     "metadata": {},
     "output_type": "execute_result"
    }
   ],
   "source": [
    "# 多个值以行列下标索引示例1\n",
    "df2.iloc[2, [0, 2, 3]]"
   ]
  },
  {
   "cell_type": "code",
   "execution_count": 102,
   "metadata": {
    "scrolled": true
   },
   "outputs": [
    {
     "data": {
      "text/html": [
       "<div>\n",
       "<style scoped>\n",
       "    .dataframe tbody tr th:only-of-type {\n",
       "        vertical-align: middle;\n",
       "    }\n",
       "\n",
       "    .dataframe tbody tr th {\n",
       "        vertical-align: top;\n",
       "    }\n",
       "\n",
       "    .dataframe thead th {\n",
       "        text-align: right;\n",
       "    }\n",
       "</style>\n",
       "<table border=\"1\" class=\"dataframe\">\n",
       "  <thead>\n",
       "    <tr style=\"text-align: right;\">\n",
       "      <th></th>\n",
       "      <th>年龄</th>\n",
       "      <th>价格</th>\n",
       "    </tr>\n",
       "  </thead>\n",
       "  <tbody>\n",
       "    <tr>\n",
       "      <th>102</th>\n",
       "      <td>5</td>\n",
       "      <td>6</td>\n",
       "    </tr>\n",
       "    <tr>\n",
       "      <th>103</th>\n",
       "      <td>9</td>\n",
       "      <td>10</td>\n",
       "    </tr>\n",
       "  </tbody>\n",
       "</table>\n",
       "</div>"
      ],
      "text/plain": [
       "     年龄  价格\n",
       "102   5   6\n",
       "103   9  10"
      ]
     },
     "execution_count": 102,
     "metadata": {},
     "output_type": "execute_result"
    }
   ],
   "source": [
    "# 多个值以行列下标索引示例2\n",
    "df2.iloc[[1, 2], 0:2]"
   ]
  },
  {
   "cell_type": "markdown",
   "metadata": {},
   "source": [
    "*几个不规范的索引示例*  \n",
    "> 根本问题都是：没有**一步到位**"
   ]
  },
  {
   "cell_type": "code",
   "execution_count": 136,
   "metadata": {
    "scrolled": true
   },
   "outputs": [
    {
     "data": {
      "text/plain": [
       "2"
      ]
     },
     "execution_count": 136,
     "metadata": {},
     "output_type": "execute_result"
    }
   ],
   "source": [
    "# 先列后行\n",
    "df2['年龄'][102]"
   ]
  },
  {
   "cell_type": "code",
   "execution_count": 138,
   "metadata": {
    "scrolled": true
   },
   "outputs": [
    {
     "data": {
      "text/plain": [
       "101    3\n",
       "102    7\n",
       "Name: 金额, dtype: int32"
      ]
     },
     "execution_count": 138,
     "metadata": {},
     "output_type": "execute_result"
    }
   ],
   "source": [
    "# 先行后列\n",
    "df2[df2['人口']<10]['金额']\n",
    "# df2.loc[df2['人口']<10, '金额']"
   ]
  },
  {
   "cell_type": "markdown",
   "metadata": {},
   "source": [
    "*另一种即将被淘汰的索引方式`ix`*  \n",
    "> 当索引名称和位置下标存在部分重叠时，ix默认优先识别名称  \n",
    "> 了解即可，不要使用"
   ]
  },
  {
   "cell_type": "code",
   "execution_count": 141,
   "metadata": {
    "scrolled": false
   },
   "outputs": [
    {
     "name": "stderr",
     "output_type": "stream",
     "text": [
      "D:\\Anaconda3\\lib\\site-packages\\ipykernel_launcher.py:1: DeprecationWarning: \n",
      ".ix is deprecated. Please use\n",
      ".loc for label based indexing or\n",
      ".iloc for positional indexing\n",
      "\n",
      "See the documentation here:\n",
      "http://pandas.pydata.org/pandas-docs/stable/indexing.html#ix-indexer-is-deprecated\n",
      "  \"\"\"Entry point for launching an IPython kernel.\n"
     ]
    },
    {
     "data": {
      "text/plain": [
       "7"
      ]
     },
     "execution_count": 141,
     "metadata": {},
     "output_type": "execute_result"
    }
   ],
   "source": [
    "df2.ix[102, 2]"
   ]
  },
  {
   "cell_type": "markdown",
   "metadata": {},
   "source": [
    "#### DataFrame的增删改查"
   ]
  },
  {
   "cell_type": "markdown",
   "metadata": {},
   "source": [
    "**增添和更改值**  \n",
    "实际上，增和改就是在索引定位的基础上进行赋值操作"
   ]
  },
  {
   "cell_type": "code",
   "execution_count": 136,
   "metadata": {
    "scrolled": true
   },
   "outputs": [
    {
     "data": {
      "text/html": [
       "<div>\n",
       "<style scoped>\n",
       "    .dataframe tbody tr th:only-of-type {\n",
       "        vertical-align: middle;\n",
       "    }\n",
       "\n",
       "    .dataframe tbody tr th {\n",
       "        vertical-align: top;\n",
       "    }\n",
       "\n",
       "    .dataframe thead th {\n",
       "        text-align: right;\n",
       "    }\n",
       "</style>\n",
       "<table border=\"1\" class=\"dataframe\">\n",
       "  <thead>\n",
       "    <tr style=\"text-align: right;\">\n",
       "      <th></th>\n",
       "      <th>年龄</th>\n",
       "      <th>价格</th>\n",
       "      <th>金额</th>\n",
       "      <th>人口</th>\n",
       "    </tr>\n",
       "  </thead>\n",
       "  <tbody>\n",
       "    <tr>\n",
       "      <th>101</th>\n",
       "      <td>1</td>\n",
       "      <td>2</td>\n",
       "      <td>3</td>\n",
       "      <td>4</td>\n",
       "    </tr>\n",
       "    <tr>\n",
       "      <th>102</th>\n",
       "      <td>5</td>\n",
       "      <td>6</td>\n",
       "      <td>7</td>\n",
       "      <td>8</td>\n",
       "    </tr>\n",
       "    <tr>\n",
       "      <th>103</th>\n",
       "      <td>9</td>\n",
       "      <td>10</td>\n",
       "      <td>11</td>\n",
       "      <td>12</td>\n",
       "    </tr>\n",
       "  </tbody>\n",
       "</table>\n",
       "</div>"
      ],
      "text/plain": [
       "     年龄  价格  金额  人口\n",
       "101   1   2   3   4\n",
       "102   5   6   7   8\n",
       "103   9  10  11  12"
      ]
     },
     "execution_count": 136,
     "metadata": {},
     "output_type": "execute_result"
    }
   ],
   "source": [
    "df2"
   ]
  },
  {
   "cell_type": "code",
   "execution_count": 154,
   "metadata": {},
   "outputs": [
    {
     "data": {
      "text/html": [
       "<div>\n",
       "<style scoped>\n",
       "    .dataframe tbody tr th:only-of-type {\n",
       "        vertical-align: middle;\n",
       "    }\n",
       "\n",
       "    .dataframe tbody tr th {\n",
       "        vertical-align: top;\n",
       "    }\n",
       "\n",
       "    .dataframe thead th {\n",
       "        text-align: right;\n",
       "    }\n",
       "</style>\n",
       "<table border=\"1\" class=\"dataframe\">\n",
       "  <thead>\n",
       "    <tr style=\"text-align: right;\">\n",
       "      <th></th>\n",
       "      <th>年龄</th>\n",
       "      <th>价格</th>\n",
       "      <th>金额</th>\n",
       "      <th>人口</th>\n",
       "    </tr>\n",
       "  </thead>\n",
       "  <tbody>\n",
       "    <tr>\n",
       "      <th>101</th>\n",
       "      <td>1</td>\n",
       "      <td>2</td>\n",
       "      <td>3</td>\n",
       "      <td>4</td>\n",
       "    </tr>\n",
       "    <tr>\n",
       "      <th>102</th>\n",
       "      <td>2</td>\n",
       "      <td>66</td>\n",
       "      <td>77</td>\n",
       "      <td>8</td>\n",
       "    </tr>\n",
       "    <tr>\n",
       "      <th>103</th>\n",
       "      <td>9</td>\n",
       "      <td>10</td>\n",
       "      <td>11</td>\n",
       "      <td>12</td>\n",
       "    </tr>\n",
       "  </tbody>\n",
       "</table>\n",
       "</div>"
      ],
      "text/plain": [
       "     年龄  价格  金额  人口\n",
       "101   1   2   3   4\n",
       "102   2  66  77   8\n",
       "103   9  10  11  12"
      ]
     },
     "execution_count": 154,
     "metadata": {},
     "output_type": "execute_result"
    }
   ],
   "source": [
    "df2.loc[102, '价格':'金额'] = [66, 77]\n",
    "df2"
   ]
  },
  {
   "cell_type": "markdown",
   "metadata": {},
   "source": [
    "**删除某列或某行数据**  \n",
    "  \n",
    "使用`drop`方法进行操作  \n",
    "> 注意：  \n",
    "* drop删除只能使用名称索引  \n",
    "* 用axis参数指定删除行/列，默认axis=0，即删除行，可指定axis=1用于删除列  \n",
    "* drop方法仅返回一个新对象，不影响原Series，要更改原Series对象则需要设置inplace参数"
   ]
  },
  {
   "cell_type": "code",
   "execution_count": 138,
   "metadata": {
    "scrolled": true
   },
   "outputs": [
    {
     "data": {
      "text/html": [
       "<div>\n",
       "<style scoped>\n",
       "    .dataframe tbody tr th:only-of-type {\n",
       "        vertical-align: middle;\n",
       "    }\n",
       "\n",
       "    .dataframe tbody tr th {\n",
       "        vertical-align: top;\n",
       "    }\n",
       "\n",
       "    .dataframe thead th {\n",
       "        text-align: right;\n",
       "    }\n",
       "</style>\n",
       "<table border=\"1\" class=\"dataframe\">\n",
       "  <thead>\n",
       "    <tr style=\"text-align: right;\">\n",
       "      <th></th>\n",
       "      <th>年龄</th>\n",
       "      <th>价格</th>\n",
       "      <th>金额</th>\n",
       "      <th>人口</th>\n",
       "    </tr>\n",
       "  </thead>\n",
       "  <tbody>\n",
       "    <tr>\n",
       "      <th>101</th>\n",
       "      <td>1</td>\n",
       "      <td>2</td>\n",
       "      <td>3</td>\n",
       "      <td>4</td>\n",
       "    </tr>\n",
       "    <tr>\n",
       "      <th>103</th>\n",
       "      <td>9</td>\n",
       "      <td>10</td>\n",
       "      <td>11</td>\n",
       "      <td>12</td>\n",
       "    </tr>\n",
       "  </tbody>\n",
       "</table>\n",
       "</div>"
      ],
      "text/plain": [
       "     年龄  价格  金额  人口\n",
       "101   1   2   3   4\n",
       "103   9  10  11  12"
      ]
     },
     "execution_count": 138,
     "metadata": {},
     "output_type": "execute_result"
    }
   ],
   "source": [
    "df2.drop(102)"
   ]
  },
  {
   "cell_type": "code",
   "execution_count": 140,
   "metadata": {
    "scrolled": false
   },
   "outputs": [
    {
     "data": {
      "text/html": [
       "<div>\n",
       "<style scoped>\n",
       "    .dataframe tbody tr th:only-of-type {\n",
       "        vertical-align: middle;\n",
       "    }\n",
       "\n",
       "    .dataframe tbody tr th {\n",
       "        vertical-align: top;\n",
       "    }\n",
       "\n",
       "    .dataframe thead th {\n",
       "        text-align: right;\n",
       "    }\n",
       "</style>\n",
       "<table border=\"1\" class=\"dataframe\">\n",
       "  <thead>\n",
       "    <tr style=\"text-align: right;\">\n",
       "      <th></th>\n",
       "      <th>价格</th>\n",
       "      <th>金额</th>\n",
       "    </tr>\n",
       "  </thead>\n",
       "  <tbody>\n",
       "    <tr>\n",
       "      <th>101</th>\n",
       "      <td>2</td>\n",
       "      <td>3</td>\n",
       "    </tr>\n",
       "    <tr>\n",
       "      <th>102</th>\n",
       "      <td>6</td>\n",
       "      <td>7</td>\n",
       "    </tr>\n",
       "    <tr>\n",
       "      <th>103</th>\n",
       "      <td>10</td>\n",
       "      <td>11</td>\n",
       "    </tr>\n",
       "  </tbody>\n",
       "</table>\n",
       "</div>"
      ],
      "text/plain": [
       "     价格  金额\n",
       "101   2   3\n",
       "102   6   7\n",
       "103  10  11"
      ]
     },
     "execution_count": 140,
     "metadata": {},
     "output_type": "execute_result"
    }
   ],
   "source": [
    "df2.drop(['年龄', '人口'], axis=1)"
   ]
  },
  {
   "cell_type": "markdown",
   "metadata": {},
   "source": [
    "**查询DataFrame首/尾几行**"
   ]
  },
  {
   "cell_type": "code",
   "execution_count": 158,
   "metadata": {},
   "outputs": [
    {
     "data": {
      "text/html": [
       "<div>\n",
       "<style scoped>\n",
       "    .dataframe tbody tr th:only-of-type {\n",
       "        vertical-align: middle;\n",
       "    }\n",
       "\n",
       "    .dataframe tbody tr th {\n",
       "        vertical-align: top;\n",
       "    }\n",
       "\n",
       "    .dataframe thead th {\n",
       "        text-align: right;\n",
       "    }\n",
       "</style>\n",
       "<table border=\"1\" class=\"dataframe\">\n",
       "  <thead>\n",
       "    <tr style=\"text-align: right;\">\n",
       "      <th></th>\n",
       "      <th>AAA</th>\n",
       "      <th>BBB</th>\n",
       "    </tr>\n",
       "  </thead>\n",
       "  <tbody>\n",
       "    <tr>\n",
       "      <th>0</th>\n",
       "      <td>0</td>\n",
       "      <td>10</td>\n",
       "    </tr>\n",
       "    <tr>\n",
       "      <th>1</th>\n",
       "      <td>1</td>\n",
       "      <td>11</td>\n",
       "    </tr>\n",
       "    <tr>\n",
       "      <th>2</th>\n",
       "      <td>2</td>\n",
       "      <td>12</td>\n",
       "    </tr>\n",
       "    <tr>\n",
       "      <th>3</th>\n",
       "      <td>3</td>\n",
       "      <td>13</td>\n",
       "    </tr>\n",
       "    <tr>\n",
       "      <th>4</th>\n",
       "      <td>4</td>\n",
       "      <td>14</td>\n",
       "    </tr>\n",
       "    <tr>\n",
       "      <th>5</th>\n",
       "      <td>5</td>\n",
       "      <td>15</td>\n",
       "    </tr>\n",
       "    <tr>\n",
       "      <th>6</th>\n",
       "      <td>6</td>\n",
       "      <td>16</td>\n",
       "    </tr>\n",
       "    <tr>\n",
       "      <th>7</th>\n",
       "      <td>7</td>\n",
       "      <td>17</td>\n",
       "    </tr>\n",
       "    <tr>\n",
       "      <th>8</th>\n",
       "      <td>8</td>\n",
       "      <td>18</td>\n",
       "    </tr>\n",
       "    <tr>\n",
       "      <th>9</th>\n",
       "      <td>9</td>\n",
       "      <td>19</td>\n",
       "    </tr>\n",
       "  </tbody>\n",
       "</table>\n",
       "</div>"
      ],
      "text/plain": [
       "   AAA  BBB\n",
       "0    0   10\n",
       "1    1   11\n",
       "2    2   12\n",
       "3    3   13\n",
       "4    4   14\n",
       "5    5   15\n",
       "6    6   16\n",
       "7    7   17\n",
       "8    8   18\n",
       "9    9   19"
      ]
     },
     "execution_count": 158,
     "metadata": {},
     "output_type": "execute_result"
    }
   ],
   "source": [
    "df3 = pd.DataFrame({'AAA': range(10), 'BBB': range(10, 20)})\n",
    "df3"
   ]
  },
  {
   "cell_type": "code",
   "execution_count": 159,
   "metadata": {},
   "outputs": [
    {
     "data": {
      "text/html": [
       "<div>\n",
       "<style scoped>\n",
       "    .dataframe tbody tr th:only-of-type {\n",
       "        vertical-align: middle;\n",
       "    }\n",
       "\n",
       "    .dataframe tbody tr th {\n",
       "        vertical-align: top;\n",
       "    }\n",
       "\n",
       "    .dataframe thead th {\n",
       "        text-align: right;\n",
       "    }\n",
       "</style>\n",
       "<table border=\"1\" class=\"dataframe\">\n",
       "  <thead>\n",
       "    <tr style=\"text-align: right;\">\n",
       "      <th></th>\n",
       "      <th>AAA</th>\n",
       "      <th>BBB</th>\n",
       "    </tr>\n",
       "  </thead>\n",
       "  <tbody>\n",
       "    <tr>\n",
       "      <th>0</th>\n",
       "      <td>0</td>\n",
       "      <td>10</td>\n",
       "    </tr>\n",
       "    <tr>\n",
       "      <th>1</th>\n",
       "      <td>1</td>\n",
       "      <td>11</td>\n",
       "    </tr>\n",
       "    <tr>\n",
       "      <th>2</th>\n",
       "      <td>2</td>\n",
       "      <td>12</td>\n",
       "    </tr>\n",
       "    <tr>\n",
       "      <th>3</th>\n",
       "      <td>3</td>\n",
       "      <td>13</td>\n",
       "    </tr>\n",
       "  </tbody>\n",
       "</table>\n",
       "</div>"
      ],
      "text/plain": [
       "   AAA  BBB\n",
       "0    0   10\n",
       "1    1   11\n",
       "2    2   12\n",
       "3    3   13"
      ]
     },
     "execution_count": 159,
     "metadata": {},
     "output_type": "execute_result"
    }
   ],
   "source": [
    "df3.head(4)"
   ]
  },
  {
   "cell_type": "code",
   "execution_count": 160,
   "metadata": {
    "scrolled": true
   },
   "outputs": [
    {
     "data": {
      "text/html": [
       "<div>\n",
       "<style scoped>\n",
       "    .dataframe tbody tr th:only-of-type {\n",
       "        vertical-align: middle;\n",
       "    }\n",
       "\n",
       "    .dataframe tbody tr th {\n",
       "        vertical-align: top;\n",
       "    }\n",
       "\n",
       "    .dataframe thead th {\n",
       "        text-align: right;\n",
       "    }\n",
       "</style>\n",
       "<table border=\"1\" class=\"dataframe\">\n",
       "  <thead>\n",
       "    <tr style=\"text-align: right;\">\n",
       "      <th></th>\n",
       "      <th>AAA</th>\n",
       "      <th>BBB</th>\n",
       "    </tr>\n",
       "  </thead>\n",
       "  <tbody>\n",
       "    <tr>\n",
       "      <th>7</th>\n",
       "      <td>7</td>\n",
       "      <td>17</td>\n",
       "    </tr>\n",
       "    <tr>\n",
       "      <th>8</th>\n",
       "      <td>8</td>\n",
       "      <td>18</td>\n",
       "    </tr>\n",
       "    <tr>\n",
       "      <th>9</th>\n",
       "      <td>9</td>\n",
       "      <td>19</td>\n",
       "    </tr>\n",
       "  </tbody>\n",
       "</table>\n",
       "</div>"
      ],
      "text/plain": [
       "   AAA  BBB\n",
       "7    7   17\n",
       "8    8   18\n",
       "9    9   19"
      ]
     },
     "execution_count": 160,
     "metadata": {},
     "output_type": "execute_result"
    }
   ],
   "source": [
    "df3.tail(3)"
   ]
  },
  {
   "cell_type": "markdown",
   "metadata": {},
   "source": [
    "## 对DataFrame进行统计分析★"
   ]
  },
  {
   "cell_type": "markdown",
   "metadata": {},
   "source": [
    "### 对数据框进行整体的统计描述"
   ]
  },
  {
   "cell_type": "code",
   "execution_count": 141,
   "metadata": {
    "scrolled": true
   },
   "outputs": [
    {
     "data": {
      "text/html": [
       "<div>\n",
       "<style scoped>\n",
       "    .dataframe tbody tr th:only-of-type {\n",
       "        vertical-align: middle;\n",
       "    }\n",
       "\n",
       "    .dataframe tbody tr th {\n",
       "        vertical-align: top;\n",
       "    }\n",
       "\n",
       "    .dataframe thead th {\n",
       "        text-align: right;\n",
       "    }\n",
       "</style>\n",
       "<table border=\"1\" class=\"dataframe\">\n",
       "  <thead>\n",
       "    <tr style=\"text-align: right;\">\n",
       "      <th></th>\n",
       "      <th>a</th>\n",
       "      <th>b</th>\n",
       "    </tr>\n",
       "  </thead>\n",
       "  <tbody>\n",
       "    <tr>\n",
       "      <th>0</th>\n",
       "      <td>53</td>\n",
       "      <td>1.94</td>\n",
       "    </tr>\n",
       "    <tr>\n",
       "      <th>1</th>\n",
       "      <td>232</td>\n",
       "      <td>23.80</td>\n",
       "    </tr>\n",
       "    <tr>\n",
       "      <th>2</th>\n",
       "      <td>85</td>\n",
       "      <td>NaN</td>\n",
       "    </tr>\n",
       "  </tbody>\n",
       "</table>\n",
       "</div>"
      ],
      "text/plain": [
       "     a      b\n",
       "0   53   1.94\n",
       "1  232  23.80\n",
       "2   85    NaN"
      ]
     },
     "execution_count": 141,
     "metadata": {},
     "output_type": "execute_result"
    }
   ],
   "source": [
    "df4 = pd.DataFrame({\"a\": [53, 232, 85],\n",
    "                    \"b\": [1.94, 23.8, np.nan]})\n",
    "df4"
   ]
  },
  {
   "cell_type": "code",
   "execution_count": 145,
   "metadata": {
    "scrolled": true
   },
   "outputs": [
    {
     "data": {
      "text/html": [
       "<div>\n",
       "<style scoped>\n",
       "    .dataframe tbody tr th:only-of-type {\n",
       "        vertical-align: middle;\n",
       "    }\n",
       "\n",
       "    .dataframe tbody tr th {\n",
       "        vertical-align: top;\n",
       "    }\n",
       "\n",
       "    .dataframe thead th {\n",
       "        text-align: right;\n",
       "    }\n",
       "</style>\n",
       "<table border=\"1\" class=\"dataframe\">\n",
       "  <thead>\n",
       "    <tr style=\"text-align: right;\">\n",
       "      <th></th>\n",
       "      <th>count</th>\n",
       "      <th>mean</th>\n",
       "      <th>std</th>\n",
       "      <th>min</th>\n",
       "      <th>25%</th>\n",
       "      <th>50%</th>\n",
       "      <th>75%</th>\n",
       "      <th>max</th>\n",
       "    </tr>\n",
       "  </thead>\n",
       "  <tbody>\n",
       "    <tr>\n",
       "      <th>a</th>\n",
       "      <td>3.0</td>\n",
       "      <td>123.0</td>\n",
       "      <td>95.0</td>\n",
       "      <td>53.0</td>\n",
       "      <td>69.0</td>\n",
       "      <td>85.0</td>\n",
       "      <td>158.0</td>\n",
       "      <td>232.0</td>\n",
       "    </tr>\n",
       "    <tr>\n",
       "      <th>b</th>\n",
       "      <td>2.0</td>\n",
       "      <td>13.0</td>\n",
       "      <td>15.0</td>\n",
       "      <td>2.0</td>\n",
       "      <td>7.0</td>\n",
       "      <td>13.0</td>\n",
       "      <td>18.0</td>\n",
       "      <td>24.0</td>\n",
       "    </tr>\n",
       "  </tbody>\n",
       "</table>\n",
       "</div>"
      ],
      "text/plain": [
       "   count   mean   std   min   25%   50%    75%    max\n",
       "a    3.0  123.0  95.0  53.0  69.0  85.0  158.0  232.0\n",
       "b    2.0   13.0  15.0   2.0   7.0  13.0   18.0   24.0"
      ]
     },
     "execution_count": 145,
     "metadata": {},
     "output_type": "execute_result"
    }
   ],
   "source": [
    "df4.describe().round(0).T"
   ]
  },
  {
   "cell_type": "code",
   "execution_count": 8,
   "metadata": {},
   "outputs": [
    {
     "data": {
      "text/html": [
       "<div>\n",
       "<style scoped>\n",
       "    .dataframe tbody tr th:only-of-type {\n",
       "        vertical-align: middle;\n",
       "    }\n",
       "\n",
       "    .dataframe tbody tr th {\n",
       "        vertical-align: top;\n",
       "    }\n",
       "\n",
       "    .dataframe thead th {\n",
       "        text-align: right;\n",
       "    }\n",
       "</style>\n",
       "<table border=\"1\" class=\"dataframe\">\n",
       "  <thead>\n",
       "    <tr style=\"text-align: right;\">\n",
       "      <th></th>\n",
       "      <th>城市</th>\n",
       "      <th>猫</th>\n",
       "    </tr>\n",
       "  </thead>\n",
       "  <tbody>\n",
       "    <tr>\n",
       "      <th>0</th>\n",
       "      <td>北京</td>\n",
       "      <td>波斯</td>\n",
       "    </tr>\n",
       "    <tr>\n",
       "      <th>1</th>\n",
       "      <td>杭州</td>\n",
       "      <td>布偶</td>\n",
       "    </tr>\n",
       "    <tr>\n",
       "      <th>2</th>\n",
       "      <td>乌鲁木齐</td>\n",
       "      <td>布偶</td>\n",
       "    </tr>\n",
       "  </tbody>\n",
       "</table>\n",
       "</div>"
      ],
      "text/plain": [
       "     城市   猫\n",
       "0    北京  波斯\n",
       "1    杭州  布偶\n",
       "2  乌鲁木齐  布偶"
      ]
     },
     "execution_count": 8,
     "metadata": {},
     "output_type": "execute_result"
    }
   ],
   "source": [
    "df5 = pd.DataFrame({\"城市\": [\"北京\", \"杭州\", \"乌鲁木齐\"],\n",
    "                    \"猫\": [\"波斯\", \"布偶\", \"布偶\"]})\n",
    "df5"
   ]
  },
  {
   "cell_type": "code",
   "execution_count": 10,
   "metadata": {},
   "outputs": [
    {
     "data": {
      "text/html": [
       "<div>\n",
       "<style scoped>\n",
       "    .dataframe tbody tr th:only-of-type {\n",
       "        vertical-align: middle;\n",
       "    }\n",
       "\n",
       "    .dataframe tbody tr th {\n",
       "        vertical-align: top;\n",
       "    }\n",
       "\n",
       "    .dataframe thead th {\n",
       "        text-align: right;\n",
       "    }\n",
       "</style>\n",
       "<table border=\"1\" class=\"dataframe\">\n",
       "  <thead>\n",
       "    <tr style=\"text-align: right;\">\n",
       "      <th></th>\n",
       "      <th>城市</th>\n",
       "      <th>猫</th>\n",
       "    </tr>\n",
       "  </thead>\n",
       "  <tbody>\n",
       "    <tr>\n",
       "      <th>count</th>\n",
       "      <td>3</td>\n",
       "      <td>3</td>\n",
       "    </tr>\n",
       "    <tr>\n",
       "      <th>unique</th>\n",
       "      <td>3</td>\n",
       "      <td>2</td>\n",
       "    </tr>\n",
       "    <tr>\n",
       "      <th>top</th>\n",
       "      <td>杭州</td>\n",
       "      <td>布偶</td>\n",
       "    </tr>\n",
       "    <tr>\n",
       "      <th>freq</th>\n",
       "      <td>1</td>\n",
       "      <td>2</td>\n",
       "    </tr>\n",
       "  </tbody>\n",
       "</table>\n",
       "</div>"
      ],
      "text/plain": [
       "        城市   猫\n",
       "count    3   3\n",
       "unique   3   2\n",
       "top     杭州  布偶\n",
       "freq     1   2"
      ]
     },
     "execution_count": 10,
     "metadata": {},
     "output_type": "execute_result"
    }
   ],
   "source": [
    "df5.describe()"
   ]
  },
  {
   "cell_type": "code",
   "execution_count": 23,
   "metadata": {},
   "outputs": [
    {
     "data": {
      "text/html": [
       "<div>\n",
       "<style scoped>\n",
       "    .dataframe tbody tr th:only-of-type {\n",
       "        vertical-align: middle;\n",
       "    }\n",
       "\n",
       "    .dataframe tbody tr th {\n",
       "        vertical-align: top;\n",
       "    }\n",
       "\n",
       "    .dataframe thead th {\n",
       "        text-align: right;\n",
       "    }\n",
       "</style>\n",
       "<table border=\"1\" class=\"dataframe\">\n",
       "  <thead>\n",
       "    <tr style=\"text-align: right;\">\n",
       "      <th></th>\n",
       "      <th>姓名</th>\n",
       "      <th>爱好</th>\n",
       "      <th>体重</th>\n",
       "    </tr>\n",
       "  </thead>\n",
       "  <tbody>\n",
       "    <tr>\n",
       "      <th>0</th>\n",
       "      <td>韩梅梅</td>\n",
       "      <td>吃</td>\n",
       "      <td>180</td>\n",
       "    </tr>\n",
       "    <tr>\n",
       "      <th>1</th>\n",
       "      <td>李雷</td>\n",
       "      <td>跳</td>\n",
       "      <td>90</td>\n",
       "    </tr>\n",
       "    <tr>\n",
       "      <th>2</th>\n",
       "      <td>露西</td>\n",
       "      <td>跳</td>\n",
       "      <td>110</td>\n",
       "    </tr>\n",
       "  </tbody>\n",
       "</table>\n",
       "</div>"
      ],
      "text/plain": [
       "    姓名 爱好   体重\n",
       "0  韩梅梅  吃  180\n",
       "1   李雷  跳   90\n",
       "2   露西  跳  110"
      ]
     },
     "execution_count": 23,
     "metadata": {},
     "output_type": "execute_result"
    }
   ],
   "source": [
    "df6 = pd.DataFrame({\n",
    "    \"姓名\": [\"韩梅梅\", \"李雷\", \"露西\"],\n",
    "    \"爱好\": [\"吃\", \"跳\", \"跳\"],\n",
    "    \"体重\": [180, 90, 110]\n",
    "})\n",
    "df6"
   ]
  },
  {
   "cell_type": "code",
   "execution_count": 146,
   "metadata": {
    "scrolled": true
   },
   "outputs": [
    {
     "data": {
      "text/html": [
       "<div>\n",
       "<style scoped>\n",
       "    .dataframe tbody tr th:only-of-type {\n",
       "        vertical-align: middle;\n",
       "    }\n",
       "\n",
       "    .dataframe tbody tr th {\n",
       "        vertical-align: top;\n",
       "    }\n",
       "\n",
       "    .dataframe thead th {\n",
       "        text-align: right;\n",
       "    }\n",
       "</style>\n",
       "<table border=\"1\" class=\"dataframe\">\n",
       "  <thead>\n",
       "    <tr style=\"text-align: right;\">\n",
       "      <th></th>\n",
       "      <th>count</th>\n",
       "      <th>mean</th>\n",
       "      <th>std</th>\n",
       "      <th>min</th>\n",
       "      <th>25%</th>\n",
       "      <th>50%</th>\n",
       "      <th>75%</th>\n",
       "      <th>max</th>\n",
       "    </tr>\n",
       "  </thead>\n",
       "  <tbody>\n",
       "    <tr>\n",
       "      <th>体重</th>\n",
       "      <td>3.0</td>\n",
       "      <td>126.666667</td>\n",
       "      <td>47.258156</td>\n",
       "      <td>90.0</td>\n",
       "      <td>100.0</td>\n",
       "      <td>110.0</td>\n",
       "      <td>145.0</td>\n",
       "      <td>180.0</td>\n",
       "    </tr>\n",
       "  </tbody>\n",
       "</table>\n",
       "</div>"
      ],
      "text/plain": [
       "    count        mean        std   min    25%    50%    75%    max\n",
       "体重    3.0  126.666667  47.258156  90.0  100.0  110.0  145.0  180.0"
      ]
     },
     "execution_count": 146,
     "metadata": {},
     "output_type": "execute_result"
    }
   ],
   "source": [
    "df6.describe().T"
   ]
  },
  {
   "cell_type": "code",
   "execution_count": 25,
   "metadata": {},
   "outputs": [
    {
     "data": {
      "text/html": [
       "<div>\n",
       "<style scoped>\n",
       "    .dataframe tbody tr th:only-of-type {\n",
       "        vertical-align: middle;\n",
       "    }\n",
       "\n",
       "    .dataframe tbody tr th {\n",
       "        vertical-align: top;\n",
       "    }\n",
       "\n",
       "    .dataframe thead th {\n",
       "        text-align: right;\n",
       "    }\n",
       "</style>\n",
       "<table border=\"1\" class=\"dataframe\">\n",
       "  <thead>\n",
       "    <tr style=\"text-align: right;\">\n",
       "      <th></th>\n",
       "      <th>姓名</th>\n",
       "      <th>爱好</th>\n",
       "    </tr>\n",
       "  </thead>\n",
       "  <tbody>\n",
       "    <tr>\n",
       "      <th>count</th>\n",
       "      <td>3</td>\n",
       "      <td>3</td>\n",
       "    </tr>\n",
       "    <tr>\n",
       "      <th>unique</th>\n",
       "      <td>3</td>\n",
       "      <td>2</td>\n",
       "    </tr>\n",
       "    <tr>\n",
       "      <th>top</th>\n",
       "      <td>李雷</td>\n",
       "      <td>跳</td>\n",
       "    </tr>\n",
       "    <tr>\n",
       "      <th>freq</th>\n",
       "      <td>1</td>\n",
       "      <td>2</td>\n",
       "    </tr>\n",
       "  </tbody>\n",
       "</table>\n",
       "</div>"
      ],
      "text/plain": [
       "        姓名 爱好\n",
       "count    3  3\n",
       "unique   3  2\n",
       "top     李雷  跳\n",
       "freq     1  2"
      ]
     },
     "execution_count": 25,
     "metadata": {},
     "output_type": "execute_result"
    }
   ],
   "source": [
    "df6[[\"姓名\", \"爱好\"]].describe()"
   ]
  },
  {
   "cell_type": "markdown",
   "metadata": {},
   "source": [
    "### 对单个统计量的分析"
   ]
  },
  {
   "attachments": {
    "image.png": {
     "image/png": "[encoded data removed]"
    }
   },
   "cell_type": "markdown",
   "metadata": {},
   "source": [
    "![image.png](attachment:image.png)"
   ]
  },
  {
   "cell_type": "code",
   "execution_count": 46,
   "metadata": {},
   "outputs": [
    {
     "data": {
      "text/html": [
       "<div>\n",
       "<style scoped>\n",
       "    .dataframe tbody tr th:only-of-type {\n",
       "        vertical-align: middle;\n",
       "    }\n",
       "\n",
       "    .dataframe tbody tr th {\n",
       "        vertical-align: top;\n",
       "    }\n",
       "\n",
       "    .dataframe thead th {\n",
       "        text-align: right;\n",
       "    }\n",
       "</style>\n",
       "<table border=\"1\" class=\"dataframe\">\n",
       "  <thead>\n",
       "    <tr style=\"text-align: right;\">\n",
       "      <th></th>\n",
       "      <th>A</th>\n",
       "      <th>B</th>\n",
       "      <th>C</th>\n",
       "      <th>D</th>\n",
       "      <th>E</th>\n",
       "      <th>F</th>\n",
       "    </tr>\n",
       "  </thead>\n",
       "  <tbody>\n",
       "    <tr>\n",
       "      <th>101</th>\n",
       "      <td>0.403545</td>\n",
       "      <td>-2.258201</td>\n",
       "      <td>王</td>\n",
       "      <td>-0.753228</td>\n",
       "      <td>0.860266</td>\n",
       "      <td>1.419144</td>\n",
       "    </tr>\n",
       "    <tr>\n",
       "      <th>102</th>\n",
       "      <td>-0.792360</td>\n",
       "      <td>0.661638</td>\n",
       "      <td>牌</td>\n",
       "      <td>-1.479688</td>\n",
       "      <td>-1.361139</td>\n",
       "      <td>-0.353684</td>\n",
       "    </tr>\n",
       "    <tr>\n",
       "      <th>103</th>\n",
       "      <td>0.468519</td>\n",
       "      <td>0.725593</td>\n",
       "      <td>对</td>\n",
       "      <td>-0.701611</td>\n",
       "      <td>-1.077419</td>\n",
       "      <td>0.360764</td>\n",
       "    </tr>\n",
       "    <tr>\n",
       "      <th>104</th>\n",
       "      <td>-1.021946</td>\n",
       "      <td>-1.395921</td>\n",
       "      <td>王</td>\n",
       "      <td>1.480520</td>\n",
       "      <td>-0.024066</td>\n",
       "      <td>1.423713</td>\n",
       "    </tr>\n",
       "    <tr>\n",
       "      <th>105</th>\n",
       "      <td>-0.087719</td>\n",
       "      <td>0.970290</td>\n",
       "      <td>牌</td>\n",
       "      <td>-0.213864</td>\n",
       "      <td>0.804652</td>\n",
       "      <td>-0.898303</td>\n",
       "    </tr>\n",
       "  </tbody>\n",
       "</table>\n",
       "</div>"
      ],
      "text/plain": [
       "            A         B  C         D         E         F\n",
       "101  0.403545 -2.258201  王 -0.753228  0.860266  1.419144\n",
       "102 -0.792360  0.661638  牌 -1.479688 -1.361139 -0.353684\n",
       "103  0.468519  0.725593  对 -0.701611 -1.077419  0.360764\n",
       "104 -1.021946 -1.395921  王  1.480520 -0.024066  1.423713\n",
       "105 -0.087719  0.970290  牌 -0.213864  0.804652 -0.898303"
      ]
     },
     "execution_count": 46,
     "metadata": {},
     "output_type": "execute_result"
    }
   ],
   "source": [
    "df7 = pd.DataFrame(np.random.randn(5, 6), columns=list('ABCDEF'), index=range(101, 106))\n",
    "df7[\"C\"] = list(\"王牌对王牌\")\n",
    "df7"
   ]
  },
  {
   "cell_type": "code",
   "execution_count": 47,
   "metadata": {},
   "outputs": [
    {
     "data": {
      "text/plain": [
       "B   -0.259320\n",
       "F    0.390327\n",
       "dtype: float64"
      ]
     },
     "execution_count": 47,
     "metadata": {},
     "output_type": "execute_result"
    }
   ],
   "source": [
    "# 查看B列和F列特征的均值\n",
    "df7[[\"B\", \"F\"]].mean()"
   ]
  },
  {
   "cell_type": "code",
   "execution_count": 48,
   "metadata": {},
   "outputs": [
    {
     "data": {
      "text/plain": [
       "103    0.629796\n",
       "105    0.595793\n",
       "dtype: float64"
      ]
     },
     "execution_count": 48,
     "metadata": {},
     "output_type": "execute_result"
    }
   ],
   "source": [
    "# 查看103和105行特征的方差\n",
    "df7.loc[[103, 105], :].var(axis=1)"
   ]
  },
  {
   "cell_type": "code",
   "execution_count": 49,
   "metadata": {},
   "outputs": [
    {
     "data": {
      "text/plain": [
       "0    牌\n",
       "1    王\n",
       "dtype: object"
      ]
     },
     "execution_count": 49,
     "metadata": {},
     "output_type": "execute_result"
    }
   ],
   "source": [
    "# 查看C列的众数\n",
    "df7[\"C\"].mode()"
   ]
  },
  {
   "cell_type": "markdown",
   "metadata": {},
   "source": [
    "### 类别变量频次统计"
   ]
  },
  {
   "cell_type": "code",
   "execution_count": 50,
   "metadata": {
    "scrolled": true
   },
   "outputs": [
    {
     "data": {
      "text/plain": [
       "王    2\n",
       "牌    2\n",
       "对    1\n",
       "Name: C, dtype: int64"
      ]
     },
     "execution_count": 50,
     "metadata": {},
     "output_type": "execute_result"
    }
   ],
   "source": [
    "df7[\"C\"].value_counts()"
   ]
  },
  {
   "cell_type": "markdown",
   "metadata": {},
   "source": [
    "**文本单词统计示例**"
   ]
  },
  {
   "cell_type": "code",
   "execution_count": 147,
   "metadata": {},
   "outputs": [
    {
     "name": "stdout",
     "output_type": "stream",
     "text": [
      "Requirement already satisfied: jieba in d:\\anaconda3\\lib\\site-packages (0.39)\n"
     ]
    }
   ],
   "source": [
    "# !pip install jieba"
   ]
  },
  {
   "cell_type": "code",
   "execution_count": 149,
   "metadata": {},
   "outputs": [],
   "source": [
    "# !pip install wordcloud"
   ]
  },
  {
   "cell_type": "code",
   "execution_count": 150,
   "metadata": {},
   "outputs": [],
   "source": [
    "import random\n",
    "import jieba\n",
    "import matplotlib.pyplot as plt\n",
    "from wordcloud import WordCloud\n",
    "\n",
    "%matplotlib inline"
   ]
  },
  {
   "cell_type": "code",
   "execution_count": 151,
   "metadata": {
    "scrolled": true
   },
   "outputs": [
    {
     "data": {
      "text/plain": [
       "'世界卫生组织秘书长谭德塞13日说，欧洲已成为新冠肺炎“大流行”的“震中”。目前欧洲报告的新冠肺炎确诊和死亡病例超过中国以外其他国家和地区的总和，每天报告的病例比中国疫情流行高峰时还要多。\\n虽然世卫组织的警钟已经敲得震天响，但是身在“震中”的一些欧洲国家却只是采取了一些轻描淡写的措施，不过，这些“低调”的措施却让本国国民很焦虑。\\n比如，瑞典公共卫生局12日宣布，将改变新冠病毒检测政策，不再给轻症和疑似患者进行检测。瑞典公共卫生局微生物研究部门负责人维塞尔解释说，只对那些确实需要治疗和已经住院的人进行新冠病毒检测，是为了把有限的资源用于医护人员、已住院患者等高危人群。\\n这种在病毒面前主动缴械投降，对疫情扩散采取“鸵鸟政策”的做法并非瑞典独有，另外一个欧洲大国英国的做法更是饱受本国民众诟病。\\n英国政府在疫情加速蔓延之际，于12日宣布疫情应对措施从“遏制”阶段进入“延缓”阶段。进入“延缓”阶段后，政府的目标是尽可能降低疫情带来的影响，并把疫情高峰期出现的时间延后，错开当前流感季，降低本地卫生系统的压力。\\n具体来说，新措施就是，无论之前是否去过疫情严重的国家，无论是否跟确诊感染者有过接触，出现症状者要在家自我隔离一周。许多民众之前呼吁取消大型公众活动、关闭校园，但这些措施都没有实施。英国首相约翰逊在记者会上淡定地表示，疫情还会继续蔓延，“更多家庭会失去亲人”。\\n有评论认为，英国政府的延缓战略建立在“群体免疫”原则上，即让更多英国人接触病毒，从而获得群体免疫。很多民众对此感到愤怒，认为这将以牺牲一部分人的生命为代价。《柳叶刀》主编也怒批“政府和公众赌轮盘”。\\n这些国家的做法完全违背世卫组织的如下建议：做好检测和治疗，为打破传播链，尽早发现、隔离、检测、处理每个病例；隔离病人及其接触者，取消体育赛事，减少社交活动等。\\n部分欧洲国家为何无视世卫组织的建议，反其道而行之？原因有以下三点：\\n第一，思想上麻痹大意，过于轻敌，白白浪费了中国付出巨大牺牲为全球抗疫争取的窗口期。在中国暴发疫情初期，很多西方国家隔岸观火，事不关己，高高挂起，在宝贵的窗口期无所作为。而且，一些国家的领导人和专家一再告诉民众，新冠肺炎不过就是“大号流感”，不必恐慌，这种迷之自信的操作白白浪费了至少一二十天时间。更有甚者，很多西方主流媒体和政客被偏见障目，对中国采取的行之有效的管控和隔离措施冷嘲热讽，却没有认识到中国经验行之有效。等灾难降临，疫情迅速蔓延，他们束手无策，只好慌乱之中强装镇定。\\n第二，很多西方国家的治理模式存在缺陷，导致在一些问题上无法作为。正如瑞典首都斯德哥尔摩地区政府新闻官贝里隆德12日所承认的：“我们已没有可能阻止新冠病毒的传播，也无法跟踪所有被感染的人。”\\n第三，西方国家虽然言必称人权，经常对别国人权状况指手画脚，但是生命权是最基本、最重要的人权，而很多西方政府在疫情肆虐的当下却漠视这一点，反而以“以金钱为中心”。在危机面前，中国政府为了人民健康，不惜为中国经济按下暂停键，集中精力抗击疫情，最大限度救治患者。但是，很多西方国家很难做到这一点，西方政府和政党背后的利益集团无力承担停产停工造成的经济损失。以至于有英国网民发帖认为，英国政府任由疫情蔓延，就是为了淘汰经济上的弱势群体，置老人和穷人的死活于不顾。\\n美国总统特朗普在被批评行动不力、应对迟缓多日之后，于13日宣布“国家紧急状态”，以应对疫情。希望某些欧洲国家也能够更快行动起来，集中更多资源，采取更多有力、高效的措施，早日打赢疫情防控战，保障民众健康。'"
      ]
     },
     "execution_count": 151,
     "metadata": {},
     "output_type": "execute_result"
    }
   ],
   "source": [
    "text_data = '''世界卫生组织秘书长谭德塞13日说，欧洲已成为新冠肺炎“大流行”的“震中”。目前欧洲报告的新冠肺炎确诊和死亡病例超过中国以外其他国家和地区的总和，每天报告的病例比中国疫情流行高峰时还要多。\n",
    "虽然世卫组织的警钟已经敲得震天响，但是身在“震中”的一些欧洲国家却只是采取了一些轻描淡写的措施，不过，这些“低调”的措施却让本国国民很焦虑。\n",
    "比如，瑞典公共卫生局12日宣布，将改变新冠病毒检测政策，不再给轻症和疑似患者进行检测。瑞典公共卫生局微生物研究部门负责人维塞尔解释说，只对那些确实需要治疗和已经住院的人进行新冠病毒检测，是为了把有限的资源用于医护人员、已住院患者等高危人群。\n",
    "这种在病毒面前主动缴械投降，对疫情扩散采取“鸵鸟政策”的做法并非瑞典独有，另外一个欧洲大国英国的做法更是饱受本国民众诟病。\n",
    "英国政府在疫情加速蔓延之际，于12日宣布疫情应对措施从“遏制”阶段进入“延缓”阶段。进入“延缓”阶段后，政府的目标是尽可能降低疫情带来的影响，并把疫情高峰期出现的时间延后，错开当前流感季，降低本地卫生系统的压力。\n",
    "具体来说，新措施就是，无论之前是否去过疫情严重的国家，无论是否跟确诊感染者有过接触，出现症状者要在家自我隔离一周。许多民众之前呼吁取消大型公众活动、关闭校园，但这些措施都没有实施。英国首相约翰逊在记者会上淡定地表示，疫情还会继续蔓延，“更多家庭会失去亲人”。\n",
    "有评论认为，英国政府的延缓战略建立在“群体免疫”原则上，即让更多英国人接触病毒，从而获得群体免疫。很多民众对此感到愤怒，认为这将以牺牲一部分人的生命为代价。《柳叶刀》主编也怒批“政府和公众赌轮盘”。\n",
    "这些国家的做法完全违背世卫组织的如下建议：做好检测和治疗，为打破传播链，尽早发现、隔离、检测、处理每个病例；隔离病人及其接触者，取消体育赛事，减少社交活动等。\n",
    "部分欧洲国家为何无视世卫组织的建议，反其道而行之？原因有以下三点：\n",
    "第一，思想上麻痹大意，过于轻敌，白白浪费了中国付出巨大牺牲为全球抗疫争取的窗口期。在中国暴发疫情初期，很多西方国家隔岸观火，事不关己，高高挂起，在宝贵的窗口期无所作为。而且，一些国家的领导人和专家一再告诉民众，新冠肺炎不过就是“大号流感”，不必恐慌，这种迷之自信的操作白白浪费了至少一二十天时间。更有甚者，很多西方主流媒体和政客被偏见障目，对中国采取的行之有效的管控和隔离措施冷嘲热讽，却没有认识到中国经验行之有效。等灾难降临，疫情迅速蔓延，他们束手无策，只好慌乱之中强装镇定。\n",
    "第二，很多西方国家的治理模式存在缺陷，导致在一些问题上无法作为。正如瑞典首都斯德哥尔摩地区政府新闻官贝里隆德12日所承认的：“我们已没有可能阻止新冠病毒的传播，也无法跟踪所有被感染的人。”\n",
    "第三，西方国家虽然言必称人权，经常对别国人权状况指手画脚，但是生命权是最基本、最重要的人权，而很多西方政府在疫情肆虐的当下却漠视这一点，反而以“以金钱为中心”。在危机面前，中国政府为了人民健康，不惜为中国经济按下暂停键，集中精力抗击疫情，最大限度救治患者。但是，很多西方国家很难做到这一点，西方政府和政党背后的利益集团无力承担停产停工造成的经济损失。以至于有英国网民发帖认为，英国政府任由疫情蔓延，就是为了淘汰经济上的弱势群体，置老人和穷人的死活于不顾。\n",
    "美国总统特朗普在被批评行动不力、应对迟缓多日之后，于13日宣布“国家紧急状态”，以应对疫情。希望某些欧洲国家也能够更快行动起来，集中更多资源，采取更多有力、高效的措施，早日打赢疫情防控战，保障民众健康。'''\n",
    "\n",
    "text_data"
   ]
  },
  {
   "cell_type": "code",
   "execution_count": 155,
   "metadata": {},
   "outputs": [],
   "source": [
    "text_data = '''\n",
    "白色情人节，（英语：White Day；日语：ホワイトデー），订于3月14日，一般认为是对于西方情人节的延续，最早起源于公元三世纪时的罗马。相传罗马皇帝设立情人节是为了纪念自己在2月14日救了一对因违反恋爱结婚禁令而要被处死的恋人。一个月后，也就是3月14日，这对情侣宣誓至死不渝，后来便成为白色情人节开始流传到其他国家。普遍认为日本最早接受并推广这个节日，由于日本强大的文化软实力使得亚洲国家纷纷效仿，于是这个没有准确史料记载的情人节也成为年轻情侣看重的另一个“情人节”。\n",
    "\n",
    "　　白色情人节流行于日本、中国台湾等地区，在送礼方面也不同：具体为2月14日男方送女方一份礼物，主要是玫瑰花或者巧克力（只是中国大陆和英美法），3月14日白色情人节，就该轮到女方送男方礼物了，（日本，中国台湾是刚好相反的，2月14日是女生送巧克力，3月14日是男生回礼） 在日本，通常欲告白的女方会在情人节（2月14日）的时候送礼给心仪的对象，而收到礼物的一方，则会在3月14日回礼并告诉女方自己的心意。亚洲部分地区的年轻人亦会庆祝这个节日。\n",
    "\n",
    "　　又叫返情人节，指的是在情人节收到礼物，则在一个月后的3月14日回馈礼物，当然仅仅是回馈你想回的那个人。\n",
    "\n",
    "　　起源\n",
    "\n",
    "　　最早诞生于1977年，由日本福冈市博德区的甜点（菓子）制造商「石村万盛堂」所发起，以鼓吹收到心意的一方应该要回礼给对方，作为促销糖果的手段，节日最早称为「糖果赠送日」（キャンデーを赠る日）。自1980年起，因为糖果所使用的砂糖是白色，所以改称为「白色情人节」。\n",
    "\n",
    "　　不久后，巧克力制造商发现他们也可以在这个节日中获利，因此也开始促销白色的巧克力。现在，在这一天要回礼时，除了糖果与白巧克力之外，还包括其它各种礼品。 目前关于情人节与白色情人节，到底是男先送礼还是女方先送礼，已不再有定论，重点是这样的节日让有情有缘的男女双方都有一个可以发挥与表达自我心意的时机，相关的商人们，当然也就乐得大发利市了。\n",
    "\n",
    "　　根据日本全国饴菓子工业协同组合的解说，「白色情人节」定在3月14日的原因是由于公元三世纪时，罗马帝国皇帝克劳狄二世在首都罗马宣布废弃所有婚姻的承诺，下令全国男子都要从军。一名叫华伦泰（Sanctus Valentinus）的神父没有遵照这个旨意而继续为相恋的男女举行婚礼。事情被告发后，华伦泰神父被罗马政府捸捕，最后在公元270年2月14日这天被送上了绞架被绞死。而在一个月后的3月14日，这对获救的恋人宣誓恋情将至死不渝，为纪念这天于是另定为白色情人节。但是这个解说是完全没有历史根据的。一开始，3月14日是没有名字的，与2月14日一样都叫做“情人节”。 后来，人们为了把两个节日区分开来，便将3月14日定为“白色情人节”。\n",
    "\n",
    "　　白色在欧洲国家看来是纯洁、清纯、有灵性的，就好像年轻的少女一般，就像西方人结婚要穿白色婚纱。这便成为了“白色情人节”名称的重要来源之一。因为逐渐的流传与发展，“白色”所代表的更是期盼与幸福，是对恋人的祝福。\n",
    "\n",
    "　　“白色情人节”最早起源于三世纪时的罗马。罗马皇帝在2月14日救了一对因为原本因违反恋爱结婚禁令而要被处死的恋人，罗马皇帝为了纪念这一天而设立了情人节。而在一个月后的3月14日，这对获救的恋人宣誓恋情将至死不渝，为纪念这天于是另订为白色情人节。而此节日就从欧洲开始流传到世界其它地方。\n",
    "\n",
    "　　传说 日本的民间传说二月十四号原本是女孩子对男孩子诉表情意的日子，由女孩子送情人礼物给男孩子但是渐渐发展到最后，已不分彼此，现在由谁主动送礼物已经不重要了。在日本如果一方在二月十四日当天收到异性送的情人礼物表达情意，而且对对方也同样有好感或情意时，就会在三月十四日回送对方一份情人礼物，那表示彼此已经心心相印，所以他们就把三月十四日这一天，定为“白色情人节”。\n",
    "\n",
    "　　寓意\n",
    "\n",
    "　　期盼和幸福。 White白色：保护感、充满灵性、神圣、和平、纯洁、真实、诚挚和力量、清洁、清纯、浪漫、爽朗、潇洒、高贵、明白、纯粹、澄明、清爽、尊敬、纯净、简洁、谦卑、精密、清白、青春、出生相传，2月14日，男孩送女孩给礼物（一般为玫瑰花）。经过一个月的考虑和考察，到了3月14日，如果女孩回赠男孩礼物（一般送巧克力），就表示女孩认可男孩，可以谈恋爱了。 因此3月14日又称为白色情人节。\n",
    "\n",
    "　　相比2月14日的热烈，3月14日的故事表明了它更当是一个甜蜜的、相会的日子。\n",
    "\n",
    "　　习俗\n",
    "\n",
    "　　由于“白色情人节”起源于欧洲，所以欧洲人对过“白色情人节”已有一定的历史，并已形成了相当成熟的习俗。相传，2月14日，男孩送女孩给礼物（一般为玫瑰花和巧克力）。经过一个月的考虑和考察，到了3月14日，如果女孩回赠男孩礼物（一般送纯手工曲奇），就表示女孩认可男孩，可以谈恋爱了。\n",
    "'''"
   ]
  },
  {
   "cell_type": "code",
   "execution_count": 153,
   "metadata": {},
   "outputs": [
    {
     "name": "stdout",
     "output_type": "stream",
     "text": [
      "a非空\n"
     ]
    }
   ],
   "source": [
    "if 'a':\n",
    "    print('a非空')\n",
    "if '':\n",
    "    print('空字符串非空')"
   ]
  },
  {
   "cell_type": "code",
   "execution_count": 156,
   "metadata": {},
   "outputs": [
    {
     "data": {
      "text/plain": [
       "['白色',\n",
       " '情人节',\n",
       " '英语',\n",
       " 'White',\n",
       " 'Day',\n",
       " '日语',\n",
       " 'ホ',\n",
       " 'ワ',\n",
       " 'イ',\n",
       " 'ト',\n",
       " 'デ',\n",
       " 'ー',\n",
       " '订于',\n",
       " '月',\n",
       " '14',\n",
       " '日',\n",
       " '西方',\n",
       " '情人节',\n",
       " '延续',\n",
       " '最早',\n",
       " '起源于',\n",
       " '公元',\n",
       " '世纪',\n",
       " '时',\n",
       " '罗马',\n",
       " '相传',\n",
       " '罗马',\n",
       " '皇帝',\n",
       " '设立',\n",
       " '情人节',\n",
       " '纪念',\n",
       " '月',\n",
       " '14',\n",
       " '日救',\n",
       " '一对',\n",
       " '违反',\n",
       " '恋爱',\n",
       " '结婚',\n",
       " '禁令',\n",
       " '处死',\n",
       " '恋人',\n",
       " '一个月',\n",
       " '月',\n",
       " '14',\n",
       " '日',\n",
       " '情侣',\n",
       " '宣誓',\n",
       " '至死不渝',\n",
       " '白色',\n",
       " '情人节',\n",
       " '流传',\n",
       " '国家',\n",
       " '普遍认为',\n",
       " '日本',\n",
       " '最早',\n",
       " '接受',\n",
       " '推广',\n",
       " '节日',\n",
       " '日本',\n",
       " '强大',\n",
       " '文化',\n",
       " '软',\n",
       " '实力',\n",
       " '亚洲',\n",
       " '国家',\n",
       " '纷纷',\n",
       " '效仿',\n",
       " '准确',\n",
       " '史料',\n",
       " '记载',\n",
       " '情人节',\n",
       " '年轻',\n",
       " '情侣',\n",
       " '看重',\n",
       " '情人节',\n",
       " '白色',\n",
       " '情人节',\n",
       " '流行',\n",
       " '日本',\n",
       " '中国台湾',\n",
       " '地区',\n",
       " '送礼',\n",
       " '月',\n",
       " '14',\n",
       " '日',\n",
       " '男方',\n",
       " '送',\n",
       " '女方',\n",
       " '一份',\n",
       " '礼物',\n",
       " '玫瑰花',\n",
       " '巧克力',\n",
       " '中国',\n",
       " '大陆',\n",
       " '英美法',\n",
       " '月',\n",
       " '14',\n",
       " '日',\n",
       " '白色',\n",
       " '情人节',\n",
       " '该轮',\n",
       " '女方',\n",
       " '送',\n",
       " '男方',\n",
       " '礼物',\n",
       " '日本',\n",
       " '中国台湾',\n",
       " '月',\n",
       " '14',\n",
       " '日',\n",
       " '女生',\n",
       " '送',\n",
       " '巧克力',\n",
       " '月',\n",
       " '14',\n",
       " '日',\n",
       " '男生',\n",
       " '回礼',\n",
       " '日本',\n",
       " '欲',\n",
       " '告白',\n",
       " '女方',\n",
       " '情人节',\n",
       " '月',\n",
       " '14',\n",
       " '日',\n",
       " '送礼',\n",
       " '心仪',\n",
       " '对象',\n",
       " '收到',\n",
       " '礼物',\n",
       " '一方',\n",
       " '月',\n",
       " '14',\n",
       " '日',\n",
       " '回礼',\n",
       " '告诉',\n",
       " '女方',\n",
       " '心意',\n",
       " '亚洲',\n",
       " '地区',\n",
       " '年轻人',\n",
       " '庆祝',\n",
       " '节日',\n",
       " '返',\n",
       " '情人节',\n",
       " '指',\n",
       " '情人节',\n",
       " '收到',\n",
       " '礼物',\n",
       " '一个月',\n",
       " '月',\n",
       " '14',\n",
       " '日',\n",
       " '回馈',\n",
       " '礼物',\n",
       " '回馈',\n",
       " '想',\n",
       " '回',\n",
       " '起源',\n",
       " '最早',\n",
       " '诞生',\n",
       " '1977',\n",
       " '年',\n",
       " '日本',\n",
       " '福冈市',\n",
       " '博德',\n",
       " '区',\n",
       " '甜点',\n",
       " '菓',\n",
       " '子',\n",
       " '制造商',\n",
       " '「',\n",
       " '石村',\n",
       " '万盛',\n",
       " '堂',\n",
       " '发起',\n",
       " '鼓吹',\n",
       " '收到',\n",
       " '心意',\n",
       " '一方',\n",
       " '回礼',\n",
       " '促销',\n",
       " '糖果',\n",
       " '手段',\n",
       " '节日',\n",
       " '最早',\n",
       " '称为',\n",
       " '「',\n",
       " '糖果',\n",
       " '赠送',\n",
       " '日',\n",
       " 'キ',\n",
       " 'ャ',\n",
       " 'ン',\n",
       " 'デ',\n",
       " 'ー',\n",
       " 'を',\n",
       " '赠',\n",
       " 'る',\n",
       " '日',\n",
       " '1980',\n",
       " '年',\n",
       " '糖果',\n",
       " '砂糖',\n",
       " '白色',\n",
       " '改称',\n",
       " '「',\n",
       " '白色',\n",
       " '情人节',\n",
       " '巧克力',\n",
       " '制造商',\n",
       " '发现',\n",
       " '节日',\n",
       " '中',\n",
       " '获利',\n",
       " '促销',\n",
       " '白色',\n",
       " '巧克力',\n",
       " '回礼',\n",
       " '时',\n",
       " '糖果',\n",
       " '白巧克力',\n",
       " '之外',\n",
       " '包括',\n",
       " '礼品',\n",
       " '情人节',\n",
       " '白色',\n",
       " '情人节',\n",
       " '男先',\n",
       " '送礼',\n",
       " '女方',\n",
       " '先',\n",
       " '送礼',\n",
       " '定论',\n",
       " '重点',\n",
       " '节日',\n",
       " '有情',\n",
       " '有缘',\n",
       " '男女双方',\n",
       " '发挥',\n",
       " '表达',\n",
       " '自我',\n",
       " '心意',\n",
       " '时机',\n",
       " '相关',\n",
       " '商人',\n",
       " '乐得',\n",
       " '大发利市',\n",
       " '日本',\n",
       " '全国',\n",
       " '饴',\n",
       " '菓',\n",
       " '子',\n",
       " '工业',\n",
       " '协同',\n",
       " '组合',\n",
       " '解说',\n",
       " '「',\n",
       " '白色',\n",
       " '情人节',\n",
       " '月',\n",
       " '14',\n",
       " '日',\n",
       " '原因',\n",
       " '公元',\n",
       " '世纪',\n",
       " '时',\n",
       " '罗马帝国',\n",
       " '皇帝',\n",
       " '克劳狄',\n",
       " '二世',\n",
       " '首都',\n",
       " '罗马',\n",
       " '废弃',\n",
       " '婚姻',\n",
       " '承诺',\n",
       " '下令',\n",
       " '全国',\n",
       " '男子',\n",
       " '从军',\n",
       " '名叫',\n",
       " '华伦泰',\n",
       " 'Sanctus',\n",
       " 'Valentinus',\n",
       " '神父',\n",
       " '旨意',\n",
       " '相恋',\n",
       " '男女',\n",
       " '婚礼',\n",
       " '事情',\n",
       " '告发',\n",
       " '华伦泰',\n",
       " '神父',\n",
       " '罗马',\n",
       " '政府',\n",
       " '捸',\n",
       " '捕',\n",
       " '公元',\n",
       " '270',\n",
       " '年',\n",
       " '月',\n",
       " '14',\n",
       " '日',\n",
       " '这天',\n",
       " '送',\n",
       " '绞架',\n",
       " '绞死',\n",
       " '一个月',\n",
       " '月',\n",
       " '14',\n",
       " '日',\n",
       " '获救',\n",
       " '恋人',\n",
       " '宣誓',\n",
       " '恋情',\n",
       " '至死不渝',\n",
       " '纪念',\n",
       " '这天',\n",
       " '定为',\n",
       " '白色',\n",
       " '情人节',\n",
       " '解说',\n",
       " '历史',\n",
       " '月',\n",
       " '14',\n",
       " '日',\n",
       " '名字',\n",
       " '月',\n",
       " '14',\n",
       " '日',\n",
       " '情人节',\n",
       " '两个',\n",
       " '节日',\n",
       " '区分',\n",
       " '开来',\n",
       " '月',\n",
       " '14',\n",
       " '日',\n",
       " '定为',\n",
       " '白色',\n",
       " '情人节',\n",
       " '白色',\n",
       " '欧洲',\n",
       " '国家',\n",
       " '纯洁',\n",
       " '清纯',\n",
       " '灵性',\n",
       " '好像',\n",
       " '年轻',\n",
       " '少女',\n",
       " '西方人',\n",
       " '结婚',\n",
       " '穿',\n",
       " '白色',\n",
       " '婚纱',\n",
       " '白色',\n",
       " '情人节',\n",
       " '名称',\n",
       " '来源',\n",
       " '流传',\n",
       " '发展',\n",
       " '白色',\n",
       " '代表',\n",
       " '更是',\n",
       " '期盼',\n",
       " '幸福',\n",
       " '恋人',\n",
       " '祝福',\n",
       " '白色',\n",
       " '情人节',\n",
       " '最早',\n",
       " '起源于',\n",
       " '世纪',\n",
       " '时',\n",
       " '罗马',\n",
       " '罗马',\n",
       " '皇帝',\n",
       " '月',\n",
       " '14',\n",
       " '日救',\n",
       " '一对',\n",
       " '原本',\n",
       " '违反',\n",
       " '恋爱',\n",
       " '结婚',\n",
       " '禁令',\n",
       " '处死',\n",
       " '恋人',\n",
       " '罗马',\n",
       " '皇帝',\n",
       " '纪念',\n",
       " '设立',\n",
       " '情人节',\n",
       " '一个月',\n",
       " '月',\n",
       " '14',\n",
       " '日',\n",
       " '获救',\n",
       " '恋人',\n",
       " '宣誓',\n",
       " '恋情',\n",
       " '至死不渝',\n",
       " '纪念',\n",
       " '这天',\n",
       " '另订',\n",
       " '白色',\n",
       " '情人节',\n",
       " '而此',\n",
       " '节日',\n",
       " '欧洲',\n",
       " '流传',\n",
       " '世界',\n",
       " '地方',\n",
       " '日本',\n",
       " '民间传说',\n",
       " '二月',\n",
       " '十四号',\n",
       " '原本',\n",
       " '女孩子',\n",
       " '男孩子',\n",
       " '诉',\n",
       " '表情',\n",
       " '意',\n",
       " '日子',\n",
       " '女孩子',\n",
       " '送',\n",
       " '情人',\n",
       " '礼物',\n",
       " '男孩子',\n",
       " '渐渐',\n",
       " '发展',\n",
       " '不分彼此',\n",
       " '主动',\n",
       " '送礼物',\n",
       " '日本',\n",
       " '一方',\n",
       " '二月',\n",
       " '十四日',\n",
       " '当天',\n",
       " '收到',\n",
       " '异性',\n",
       " '送',\n",
       " '情人',\n",
       " '礼物',\n",
       " '表达',\n",
       " '情意',\n",
       " '好感',\n",
       " '情意',\n",
       " '时',\n",
       " '三月',\n",
       " '十四日',\n",
       " '回送',\n",
       " '一份',\n",
       " '情人',\n",
       " '礼物',\n",
       " '心心相印',\n",
       " '三月',\n",
       " '十四日',\n",
       " '定为',\n",
       " '白色',\n",
       " '情人节',\n",
       " '寓意',\n",
       " '期盼',\n",
       " '幸福',\n",
       " 'White',\n",
       " '白色',\n",
       " '保护',\n",
       " '感',\n",
       " '充满',\n",
       " '灵性',\n",
       " '神圣',\n",
       " '和平',\n",
       " '纯洁',\n",
       " '真实',\n",
       " '诚挚',\n",
       " '力量',\n",
       " '清洁',\n",
       " '清纯',\n",
       " '浪漫',\n",
       " '爽朗',\n",
       " '潇洒',\n",
       " '高贵',\n",
       " '明白',\n",
       " '澄明',\n",
       " '清爽',\n",
       " '尊敬',\n",
       " '纯净',\n",
       " '简洁',\n",
       " '谦卑',\n",
       " '精密',\n",
       " '清白',\n",
       " '青春',\n",
       " '出生',\n",
       " '相传',\n",
       " '月',\n",
       " '14',\n",
       " '日',\n",
       " '男孩',\n",
       " '送',\n",
       " '女孩',\n",
       " '礼物',\n",
       " '玫瑰花',\n",
       " '一个月',\n",
       " '考察',\n",
       " '月',\n",
       " '14',\n",
       " '日',\n",
       " '女孩',\n",
       " '回赠',\n",
       " '男孩',\n",
       " '礼物',\n",
       " '送',\n",
       " '巧克力',\n",
       " '女孩',\n",
       " '认可',\n",
       " '男孩',\n",
       " '谈恋爱',\n",
       " '月',\n",
       " '14',\n",
       " '日',\n",
       " '称为',\n",
       " '白色',\n",
       " '情人节',\n",
       " '相比',\n",
       " '月',\n",
       " '14',\n",
       " '日',\n",
       " '热烈',\n",
       " '月',\n",
       " '14',\n",
       " '日',\n",
       " '故事',\n",
       " '甜蜜',\n",
       " '相会',\n",
       " '日子',\n",
       " '习俗',\n",
       " '白色',\n",
       " '情人节',\n",
       " '起源于',\n",
       " '欧洲',\n",
       " '欧洲人',\n",
       " '白色',\n",
       " '情人节',\n",
       " '已有',\n",
       " '历史',\n",
       " '成熟',\n",
       " '习俗',\n",
       " '相传',\n",
       " '月',\n",
       " '14',\n",
       " '日',\n",
       " '男孩',\n",
       " '送',\n",
       " '女孩',\n",
       " '礼物',\n",
       " '玫瑰花',\n",
       " '巧克力',\n",
       " '一个月',\n",
       " '考察',\n",
       " '月',\n",
       " '14',\n",
       " '日',\n",
       " '女孩',\n",
       " '回赠',\n",
       " '男孩',\n",
       " '礼物',\n",
       " '送',\n",
       " '纯手工',\n",
       " '曲奇',\n",
       " '女孩',\n",
       " '认可',\n",
       " '男孩',\n",
       " '谈恋爱']"
      ]
     },
     "execution_count": 156,
     "metadata": {},
     "output_type": "execute_result"
    }
   ],
   "source": [
    "# 分词\n",
    "tokenize_result = jieba.lcut(text_data)\n",
    "tokenize_result\n",
    "\n",
    "# 停用词过滤\n",
    "stopwords = [line.strip() for line in open('./data/stoplist.txt', 'r', encoding='utf-8').readlines()]\n",
    "words = [word.strip() for word in tokenize_result if (word not in stopwords) and (word.strip())]\n",
    "\n",
    "words"
   ]
  },
  {
   "cell_type": "code",
   "execution_count": 157,
   "metadata": {},
   "outputs": [
    {
     "data": {
      "text/plain": [
       "0         白色\n",
       "1        情人节\n",
       "2         英语\n",
       "3      White\n",
       "4        Day\n",
       "5         日语\n",
       "6          ホ\n",
       "7          ワ\n",
       "8          イ\n",
       "9          ト\n",
       "10         デ\n",
       "11         ー\n",
       "12        订于\n",
       "13         月\n",
       "14        14\n",
       "15         日\n",
       "16        西方\n",
       "17       情人节\n",
       "18        延续\n",
       "19        最早\n",
       "20       起源于\n",
       "21        公元\n",
       "22        世纪\n",
       "23         时\n",
       "24        罗马\n",
       "25        相传\n",
       "26        罗马\n",
       "27        皇帝\n",
       "28        设立\n",
       "29       情人节\n",
       "       ...  \n",
       "544       已有\n",
       "545       历史\n",
       "546       成熟\n",
       "547       习俗\n",
       "548       相传\n",
       "549        月\n",
       "550       14\n",
       "551        日\n",
       "552       男孩\n",
       "553        送\n",
       "554       女孩\n",
       "555       礼物\n",
       "556      玫瑰花\n",
       "557      巧克力\n",
       "558      一个月\n",
       "559       考察\n",
       "560        月\n",
       "561       14\n",
       "562        日\n",
       "563       女孩\n",
       "564       回赠\n",
       "565       男孩\n",
       "566       礼物\n",
       "567        送\n",
       "568      纯手工\n",
       "569       曲奇\n",
       "570       女孩\n",
       "571       认可\n",
       "572       男孩\n",
       "573      谈恋爱\n",
       "Length: 574, dtype: object"
      ]
     },
     "execution_count": 157,
     "metadata": {},
     "output_type": "execute_result"
    }
   ],
   "source": [
    "# 统计词频\n",
    "words_series = pd.Series(words)\n",
    "words_series"
   ]
  },
  {
   "cell_type": "code",
   "execution_count": 158,
   "metadata": {},
   "outputs": [
    {
     "data": {
      "text/plain": [
       "(-0.5, 499.5, 423.5, -0.5)"
      ]
     },
     "execution_count": 158,
     "metadata": {},
     "output_type": "execute_result"
    },
    {
     "data": {
      "image/png": "[encoded data removed]",
      "text/plain": [
       "<Figure size 1152x576 with 1 Axes>"
      ]
     },
     "metadata": {
      "needs_background": "light"
     },
     "output_type": "display_data"
    }
   ],
   "source": [
    "# 统计词频\n",
    "frequencies = words_series.value_counts()\n",
    "\n",
    "# 绘制词云\n",
    "# (1)自定义颜色函数\n",
    "def random_color_func(word=None, font_size=None, position=None, orientation=None, font_path=None, random_state=None):\n",
    "    # h = randint(0, 255)  # 从0-255取值，分别是从红→橙→黄→绿→青→蓝→紫\n",
    "    # 51-70间为较亮的难以看清的黄色，0-15的红色也过于注目，改成随机在 16-50和 71-255间取值\n",
    "    h = random.choice((random.randint(16, 50), random.randint(71, 255)))\n",
    "    s = int(100.0 * 255.0 / 255.0)\n",
    "    l = int(100.0 * float(random.randint(60, 120)) / 255.0)\n",
    "    return \"hsl({}, {}%, {}%)\".format(h, s, l)\n",
    "\n",
    "\n",
    "# (2)设置背景图片\n",
    "back_pic = plt.imread(\"./data/wordcloud_backgroud.jpg\")\n",
    "\n",
    "# (3)生成词云对象\n",
    "wc = WordCloud(font_path='C:\\\\Windows\\\\Fonts\\\\simhei.ttf',  # 设置字体\n",
    "               background_color=\"white\",  # 背景颜色\n",
    "               max_words=200,  # 词云显示的最大词数\n",
    "               mask=back_pic,  # 设置背景图片\n",
    "               max_font_size=250,  # 字体最大值\n",
    "               random_state=42,\n",
    "               color_func=random_color_func)\n",
    "\n",
    "# (4)绘图\n",
    "gar_wordcloud = wc.fit_words(frequencies)  # frequencies是由频数构成的Series的形式，且单词作为索引\n",
    "plt.figure(figsize=(16, 8))\n",
    "plt.imshow(gar_wordcloud)\n",
    "plt.axis('off')"
   ]
  },
  {
   "cell_type": "code",
   "execution_count": null,
   "metadata": {},
   "outputs": [],
   "source": []
  }
 ],
 "metadata": {
  "kernelspec": {
   "display_name": "Python 3",
   "language": "python",
   "name": "python3"
  },
  "language_info": {
   "codemirror_mode": {
    "name": "ipython",
    "version": 3
   },
   "file_extension": ".py",
   "mimetype": "text/x-python",
   "name": "python",
   "nbconvert_exporter": "python",
   "pygments_lexer": "ipython3",
   "version": "3.7.3"
  },
  "toc": {
   "base_numbering": 1,
   "nav_menu": {},
   "number_sections": true,
   "sideBar": true,
   "skip_h1_title": true,
   "title_cell": "Table of Contents",
   "title_sidebar": "Contents",
   "toc_cell": true,
   "toc_position": {
    "height": "calc(100% - 180px)",
    "left": "10px",
    "top": "150px",
    "width": "271px"
   },
   "toc_section_display": true,
   "toc_window_display": false
  }
 },
 "nbformat": 4,
 "nbformat_minor": 2
}
