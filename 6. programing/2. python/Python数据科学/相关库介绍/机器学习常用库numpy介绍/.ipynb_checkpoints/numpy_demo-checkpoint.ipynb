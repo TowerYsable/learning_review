{
 "cells": [
  {
   "cell_type": "markdown",
   "metadata": {
    "toc": true
   },
   "source": [
    "<h1>Table of Contents<span class=\"tocSkip\"></span></h1>\n",
    "<div class=\"toc\"><ul class=\"toc-item\"><li><span><a href=\"#列表\" data-toc-modified-id=\"列表-1\"><span class=\"toc-item-num\">1&nbsp;&nbsp;</span>列表</a></span></li><li><span><a href=\"#数组的创建★\" data-toc-modified-id=\"数组的创建★-2\"><span class=\"toc-item-num\">2&nbsp;&nbsp;</span>数组的创建★</a></span></li><li><span><a href=\"#查看数组结构\" data-toc-modified-id=\"查看数组结构-3\"><span class=\"toc-item-num\">3&nbsp;&nbsp;</span>查看数组结构</a></span></li><li><span><a href=\"#查看数组类型\" data-toc-modified-id=\"查看数组类型-4\"><span class=\"toc-item-num\">4&nbsp;&nbsp;</span>查看数组类型</a></span></li><li><span><a href=\"#查看数组的大小\" data-toc-modified-id=\"查看数组的大小-5\"><span class=\"toc-item-num\">5&nbsp;&nbsp;</span>查看数组的大小</a></span></li><li><span><a href=\"#更改数组的结构\" data-toc-modified-id=\"更改数组的结构-6\"><span class=\"toc-item-num\">6&nbsp;&nbsp;</span>更改数组的结构</a></span></li><li><span><a href=\"#arange函数\" data-toc-modified-id=\"arange函数-7\"><span class=\"toc-item-num\">7&nbsp;&nbsp;</span>arange函数</a></span></li><li><span><a href=\"#linspace函数——返回等差数组\" data-toc-modified-id=\"linspace函数——返回等差数组-8\"><span class=\"toc-item-num\">8&nbsp;&nbsp;</span>linspace函数——返回等差数组</a></span></li><li><span><a href=\"#logspace函数——返回等比数列\" data-toc-modified-id=\"logspace函数——返回等比数列-9\"><span class=\"toc-item-num\">9&nbsp;&nbsp;</span>logspace函数——返回等比数列</a></span></li><li><span><a href=\"#创建特殊的数组\" data-toc-modified-id=\"创建特殊的数组-10\"><span class=\"toc-item-num\">10&nbsp;&nbsp;</span>创建特殊的数组</a></span></li><li><span><a href=\"#生成随机数\" data-toc-modified-id=\"生成随机数-11\"><span class=\"toc-item-num\">11&nbsp;&nbsp;</span>生成随机数</a></span></li><li><span><a href=\"#一维数组的索引和切片\" data-toc-modified-id=\"一维数组的索引和切片-12\"><span class=\"toc-item-num\">12&nbsp;&nbsp;</span>一维数组的索引和切片</a></span></li><li><span><a href=\"#多维数组的索引和切片★\" data-toc-modified-id=\"多维数组的索引和切片★-13\"><span class=\"toc-item-num\">13&nbsp;&nbsp;</span>多维数组的索引和切片★</a></span></li><li><span><a href=\"#改变数组的形状\" data-toc-modified-id=\"改变数组的形状-14\"><span class=\"toc-item-num\">14&nbsp;&nbsp;</span>改变数组的形状</a></span></li><li><span><a href=\"#数组的拼接\" data-toc-modified-id=\"数组的拼接-15\"><span class=\"toc-item-num\">15&nbsp;&nbsp;</span>数组的拼接</a></span></li><li><span><a href=\"#np.any-、np.all\" data-toc-modified-id=\"np.any-、np.all-16\"><span class=\"toc-item-num\">16&nbsp;&nbsp;</span>np.any 、np.all</a></span></li><li><span><a href=\"#广播★\" data-toc-modified-id=\"广播★-17\"><span class=\"toc-item-num\">17&nbsp;&nbsp;</span>广播★</a></span></li><li><span><a href=\"#排序\" data-toc-modified-id=\"排序-18\"><span class=\"toc-item-num\">18&nbsp;&nbsp;</span>排序</a></span></li><li><span><a href=\"#np.multiply（）、np.dot（）和星号（*）三种乘法运算的区别★\" data-toc-modified-id=\"np.multiply（）、np.dot（）和星号（*）三种乘法运算的区别★-19\"><span class=\"toc-item-num\">19&nbsp;&nbsp;</span>np.multiply（）、np.dot（）和星号（*）三种乘法运算的区别★</a></span></li><li><span><a href=\"#几个重要的函数\" data-toc-modified-id=\"几个重要的函数-20\"><span class=\"toc-item-num\">20&nbsp;&nbsp;</span>几个重要的函数</a></span></li></ul></div>"
   ]
  },
  {
   "cell_type": "markdown",
   "metadata": {},
   "source": [
    "# Numpy基础学习\n",
    "  \n",
    "大家可以参考numpy的文档或一些整理教程进行学习和查询：  \n",
    "\n",
    "**官方快速入门文档：**\n",
    "> https://docs.scipy.org/doc/numpy/user/quickstart.html\n",
    "  \n",
    "**菜鸟教程：**\n",
    "> https://www.runoob.com/numpy/numpy-tutorial.html"
   ]
  },
  {
   "cell_type": "code",
   "execution_count": 3,
   "metadata": {},
   "outputs": [],
   "source": [
    "import numpy as np"
   ]
  },
  {
   "cell_type": "markdown",
   "metadata": {},
   "source": [
    "## 列表"
   ]
  },
  {
   "cell_type": "code",
   "execution_count": 3,
   "metadata": {
    "scrolled": true
   },
   "outputs": [
    {
     "name": "stdout",
     "output_type": "stream",
     "text": [
      "[1, 'a', 1.34, True]\n"
     ]
    }
   ],
   "source": [
    "li = [1, 'a', 1.34, True]\n",
    "print(li)"
   ]
  },
  {
   "cell_type": "markdown",
   "metadata": {},
   "source": [
    "## 数组的创建★"
   ]
  },
  {
   "cell_type": "code",
   "execution_count": 5,
   "metadata": {},
   "outputs": [
    {
     "name": "stdout",
     "output_type": "stream",
     "text": [
      "[1. 2. 3. 4.]\n",
      "['1' 'a' '3' '4']\n",
      "[[1 2 3 4]\n",
      " [5 6 7 8]\n",
      " [9 1 2 3]]\n",
      "[[[1 2 3 4]\n",
      "  [5 6 7 8]\n",
      "  [9 1 2 3]]\n",
      "\n",
      " [[1 2 3 4]\n",
      "  [5 6 7 8]\n",
      "  [9 1 2 3]]]\n"
     ]
    }
   ],
   "source": [
    "arr1 = np.array([1., 2, 3, 4])\n",
    "# arr1 = np.array(range(1, 5))\n",
    "print(arr1)\n",
    "\n",
    "arr2 = np.array([1, \"a\", 3, 4])\n",
    "print(arr2)\n",
    "\n",
    "arr3 = np.array([[1, 2, 3, 4], [5, 6, 7, 8], [9, 1, 2, 3]])\n",
    "print(arr3)\n",
    "\n",
    "arr4 = np.array([[[1, 2, 3, 4], [5, 6, 7, 8], [9, 1, 2, 3]],\n",
    "                 [[1, 2, 3, 4], [5, 6, 7, 8], [9, 1, 2, 3]]])\n",
    "print(arr4)"
   ]
  },
  {
   "cell_type": "markdown",
   "metadata": {},
   "source": [
    "## 查看数组结构"
   ]
  },
  {
   "cell_type": "code",
   "execution_count": 6,
   "metadata": {},
   "outputs": [
    {
     "name": "stdout",
     "output_type": "stream",
     "text": [
      "(3, 4)\n",
      "(2, 3, 4)\n"
     ]
    }
   ],
   "source": [
    "print(arr3.shape)\n",
    "print(arr4.shape)"
   ]
  },
  {
   "cell_type": "markdown",
   "metadata": {},
   "source": [
    "## 查看数组类型"
   ]
  },
  {
   "cell_type": "code",
   "execution_count": 7,
   "metadata": {},
   "outputs": [
    {
     "name": "stdout",
     "output_type": "stream",
     "text": [
      "float64\n",
      "<U11\n",
      "int32\n"
     ]
    }
   ],
   "source": [
    "print(arr1.dtype)\n",
    "print(arr2.dtype)  # 字节序，< 表示小端，> 表示大端，| 表示平台的字节序；11位的Unicode类型\n",
    "print(arr4.dtype)"
   ]
  },
  {
   "cell_type": "markdown",
   "metadata": {},
   "source": [
    "## 查看数组的大小"
   ]
  },
  {
   "cell_type": "code",
   "execution_count": 8,
   "metadata": {
    "scrolled": false
   },
   "outputs": [
    {
     "name": "stdout",
     "output_type": "stream",
     "text": [
      "24\n"
     ]
    }
   ],
   "source": [
    "print(arr4.size)"
   ]
  },
  {
   "cell_type": "markdown",
   "metadata": {},
   "source": [
    "## 更改数组的结构"
   ]
  },
  {
   "cell_type": "code",
   "execution_count": 6,
   "metadata": {
    "scrolled": true
   },
   "outputs": [
    {
     "name": "stdout",
     "output_type": "stream",
     "text": [
      "[[1 2 3 4]\n",
      " [5 6 7 8]\n",
      " [9 1 2 3]]\n",
      "[[1 2 3]\n",
      " [4 5 6]\n",
      " [7 8 9]\n",
      " [1 2 3]]\n"
     ]
    }
   ],
   "source": [
    "print(arr3)\n",
    "arr3.shape = (4, 3)\n",
    "print(arr3)"
   ]
  },
  {
   "cell_type": "code",
   "execution_count": 7,
   "metadata": {
    "scrolled": true
   },
   "outputs": [
    {
     "name": "stdout",
     "output_type": "stream",
     "text": [
      "[[1 8]\n",
      " [4 2]\n",
      " [7 3]\n",
      " [1 6]\n",
      " [2 9]\n",
      " [5 3]]\n",
      "[[1 2 3]\n",
      " [4 5 6]\n",
      " [7 8 9]\n",
      " [1 2 3]]\n"
     ]
    }
   ],
   "source": [
    "print(arr3.reshape((6, 2), order='F'))\n",
    "print(arr3)"
   ]
  },
  {
   "cell_type": "markdown",
   "metadata": {},
   "source": [
    "## arange函数"
   ]
  },
  {
   "cell_type": "code",
   "execution_count": 10,
   "metadata": {},
   "outputs": [
    {
     "name": "stdout",
     "output_type": "stream",
     "text": [
      "[0, 1, 2, 3, 4]\n",
      "[0, 1, 2, 3, 4]\n",
      "[0 1 2 3 4]\n",
      "[1.  1.5 2.  2.5 3.  3.5 4.  4.5 5.  5.5 6.  6.5 7.  7.5 8.  8.5 9.  9.5]\n"
     ]
    }
   ],
   "source": [
    "li1 = [0, 1, 2, 3, 4]\n",
    "print(li1)\n",
    "li2 = list(range(5))\n",
    "print(li2)\n",
    "\n",
    "aran1 = np.arange(5)\n",
    "print(aran1)\n",
    "\n",
    "aran2 = np.arange(1, 10, 0.5)\n",
    "print(aran2)"
   ]
  },
  {
   "cell_type": "markdown",
   "metadata": {},
   "source": [
    "## linspace函数——返回等差数组"
   ]
  },
  {
   "cell_type": "code",
   "execution_count": 11,
   "metadata": {},
   "outputs": [
    {
     "name": "stdout",
     "output_type": "stream",
     "text": [
      "[ 1.   1.3  1.6  1.9  2.2  2.5  2.8  3.1  3.4  3.7  4.   4.3  4.6  4.9\n",
      "  5.2  5.5  5.8  6.1  6.4  6.7  7.   7.3  7.6  7.9  8.2  8.5  8.8  9.1\n",
      "  9.4  9.7 10. ]\n",
      "31\n"
     ]
    }
   ],
   "source": [
    "arr5 = np.linspace(1, 10, 31)\n",
    "print(arr5)\n",
    "print(arr5.size)"
   ]
  },
  {
   "cell_type": "markdown",
   "metadata": {},
   "source": [
    "## logspace函数——返回等比数列"
   ]
  },
  {
   "cell_type": "code",
   "execution_count": 18,
   "metadata": {},
   "outputs": [
    {
     "name": "stdout",
     "output_type": "stream",
     "text": [
      "[1.e+01 1.e+02 1.e+03 1.e+04 1.e+05]\n"
     ]
    }
   ],
   "source": [
    "arr6 = np.logspace(1, 5, 5)\n",
    "print(arr6)"
   ]
  },
  {
   "cell_type": "code",
   "execution_count": 19,
   "metadata": {},
   "outputs": [
    {
     "data": {
      "text/plain": [
       "10.0"
      ]
     },
     "execution_count": 19,
     "metadata": {},
     "output_type": "execute_result"
    }
   ],
   "source": [
    "1.e+01"
   ]
  },
  {
   "cell_type": "markdown",
   "metadata": {},
   "source": [
    "## 创建特殊的数组"
   ]
  },
  {
   "cell_type": "code",
   "execution_count": 20,
   "metadata": {
    "scrolled": true
   },
   "outputs": [
    {
     "name": "stdout",
     "output_type": "stream",
     "text": [
      "[[0. 0. 0.]\n",
      " [0. 0. 0.]]\n",
      "[[1. 0. 0. 0.]\n",
      " [0. 1. 0. 0.]\n",
      " [0. 0. 1. 0.]\n",
      " [0. 0. 0. 1.]]\n",
      "[[2 0 0 0]\n",
      " [0 3 0 0]\n",
      " [0 0 4 0]\n",
      " [0 0 0 6]]\n",
      "[[1. 1. 1. 1.]\n",
      " [1. 1. 1. 1.]\n",
      " [1. 1. 1. 1.]]\n"
     ]
    }
   ],
   "source": [
    "arr7 = np.zeros((2, 3))\n",
    "print(arr7)\n",
    "\n",
    "arr8 = np.eye(4)\n",
    "print(arr8)\n",
    "\n",
    "arr9 = np.diag((2, 3, 4, 6))\n",
    "print(arr9)\n",
    "\n",
    "arr10 = np.ones((3, 4))\n",
    "print(arr10)"
   ]
  },
  {
   "cell_type": "markdown",
   "metadata": {},
   "source": [
    "## 生成随机数"
   ]
  },
  {
   "cell_type": "code",
   "execution_count": 34,
   "metadata": {},
   "outputs": [
    {
     "name": "stdout",
     "output_type": "stream",
     "text": [
      "0.2901015268998839\n",
      "4\n",
      "c\n",
      "[0.42173402 0.704976   0.59077395 0.75296426 0.42705292 0.94097519\n",
      " 0.45795971 0.3592067  0.97336565 0.59920003]\n",
      "[[[0.7065555  0.06316032 0.50742253 0.24976952]\n",
      "  [0.17416443 0.92715352 0.00334854 0.75149703]\n",
      "  [0.9538456  0.84476862 0.95255708 0.70714702]]\n",
      "\n",
      " [[0.79395875 0.9714903  0.28513388 0.41298319]\n",
      "  [0.86979584 0.89509482 0.38986048 0.75104968]\n",
      "  [0.67466791 0.4672155  0.39372941 0.07380121]]]\n",
      "[[ 0.32389886 -1.41339375 -0.85613552]\n",
      " [ 0.73887919  0.20162813  1.76233156]]\n",
      "[[4 2 4 3]\n",
      " [3 2 2 4]\n",
      " [4 3 2 4]]\n",
      "['b' 'c']\n"
     ]
    }
   ],
   "source": [
    "import random\n",
    "\n",
    "print(random.random())  # 随机生成0-1之间的一个数\n",
    "print(random.randint(2, 4))  # 随机生成2-4(含)之间的一个数\n",
    "print(random.choice([\"a\", \"b\", \"c\"]))\n",
    "\n",
    "print(np.random.random(10))\n",
    "print(np.random.rand(2, 3, 4))\n",
    "print(np.random.randn(2, 3))\n",
    "print(np.random.randint(2, 5, size=(3, 4)))  # 不包含上限\n",
    "print(np.random.choice([\"a\", \"b\", \"c\"], 2, replace=False))"
   ]
  },
  {
   "cell_type": "markdown",
   "metadata": {},
   "source": [
    "## 一维数组的索引和切片"
   ]
  },
  {
   "cell_type": "code",
   "execution_count": 35,
   "metadata": {},
   "outputs": [
    {
     "name": "stdout",
     "output_type": "stream",
     "text": [
      "[0 1 2 3 4 5 6 7 8 9]\n",
      "4\n",
      "[4 5 6 7]\n",
      "<class 'numpy.ndarray'>\n",
      "9\n",
      "[9 7 5 3 1]\n",
      "[0 1 2 3 4 5 6 7 8 9]\n"
     ]
    }
   ],
   "source": [
    "a1 = np.arange(10)\n",
    "print(a1)\n",
    "\n",
    "print(a1[4])\n",
    "print(a1[4:8])\n",
    "print(type(a1[4:8]))\n",
    "\n",
    "print(a1[-1])\n",
    "print(a1[::-2])\n",
    "print(a1[:])"
   ]
  },
  {
   "cell_type": "markdown",
   "metadata": {},
   "source": [
    "## 多维数组的索引和切片★"
   ]
  },
  {
   "cell_type": "code",
   "execution_count": 36,
   "metadata": {},
   "outputs": [
    {
     "name": "stdout",
     "output_type": "stream",
     "text": [
      "2\n",
      "6\n",
      "[5 6]\n",
      "[5 6]\n",
      "[[ 6  7]\n",
      " [ 9 10]]\n",
      "[[ 5  6  7  8]\n",
      " [ 8  9 10 11]]\n"
     ]
    }
   ],
   "source": [
    "arr = np.array([[1, 2, 3, 4, 5],\n",
    "                [4, 5, 6, 7, 8],\n",
    "                [7, 8, 9, 10, 11]])\n",
    "# 索引的两种方式\n",
    "print(arr[0][1])\n",
    "\n",
    "print(arr[1, 2])\n",
    "\n",
    "# 切片\n",
    "print(arr[1][1:3])\n",
    "print(arr[1, 1:3])\n",
    "\n",
    "print(arr[1:3, 2:4])\n",
    "print(arr[1:, 1:])\n",
    "print(arr[1:3, 2:4])"
   ]
  },
  {
   "cell_type": "markdown",
   "metadata": {},
   "source": [
    "## 改变数组的形状"
   ]
  },
  {
   "cell_type": "code",
   "execution_count": 38,
   "metadata": {
    "scrolled": false
   },
   "outputs": [
    {
     "name": "stdout",
     "output_type": "stream",
     "text": [
      "[ 0  1  2  3  4  5  6  7  8  9 10 11]\n",
      "[[ 0  1  2  3]\n",
      " [ 4  5  6  7]\n",
      " [ 8  9 10 11]]\n",
      "2\n"
     ]
    }
   ],
   "source": [
    "a2 = np.arange(12)\n",
    "print(a2)\n",
    "\n",
    "# 新的赋值 内存地址变了 保存下来要重新赋值\n",
    "a3 = a2.reshape((3, 4))\n",
    "print(a3)\n",
    "print(a3.ndim)"
   ]
  },
  {
   "cell_type": "code",
   "execution_count": 39,
   "metadata": {
    "scrolled": true
   },
   "outputs": [
    {
     "name": "stdout",
     "output_type": "stream",
     "text": [
      "[ 0  1  2  3  4  5  6  7  8  9 10 11]\n",
      "[ 0  1  2  3  4  5  6  7  8  9 10 11]\n",
      "[ 0  4  8  1  5  9  2  6 10  3  7 11]\n"
     ]
    }
   ],
   "source": [
    "print(a3.ravel())\n",
    "print(a3.flatten(\"C\"))\n",
    "print(a3.flatten(\"F\"))"
   ]
  },
  {
   "cell_type": "markdown",
   "metadata": {},
   "source": [
    "## 数组的拼接"
   ]
  },
  {
   "cell_type": "code",
   "execution_count": 2,
   "metadata": {
    "scrolled": true
   },
   "outputs": [
    {
     "name": "stdout",
     "output_type": "stream",
     "text": [
      "[[1 2]\n",
      " [3 4]\n",
      " [5 6]]\n",
      "[[11 12]\n",
      " [13 14]\n",
      " [15 16]]\n",
      "[[ 1  2 11 12]\n",
      " [ 3  4 13 14]\n",
      " [ 5  6 15 16]]\n",
      "[[ 1  2]\n",
      " [ 3  4]\n",
      " [ 5  6]\n",
      " [11 12]\n",
      " [13 14]\n",
      " [15 16]]\n",
      "[[ 1  2 11 12]\n",
      " [ 3  4 13 14]\n",
      " [ 5  6 15 16]]\n",
      "[[ 1  2]\n",
      " [ 3  4]\n",
      " [ 5  6]\n",
      " [11 12]\n",
      " [13 14]\n",
      " [15 16]]\n"
     ]
    }
   ],
   "source": [
    "arr1 = np.arange(1, 7).reshape((3, 2))\n",
    "arr2 = np.arange(11, 17).reshape((3, 2))\n",
    "print(arr1)\n",
    "print(arr2)\n",
    "\n",
    "print(np.hstack((arr1, arr2)))\n",
    "print(np.vstack((arr1, arr2)))\n",
    "\n",
    "print(np.concatenate((arr1, arr2), axis=1))\n",
    "print(np.concatenate((arr1, arr2), axis=0))"
   ]
  },
  {
   "cell_type": "code",
   "execution_count": 1,
   "metadata": {
    "scrolled": true
   },
   "outputs": [
    {
     "output_type": "stream",
     "name": "stdout",
     "text": [
      "[[0 1 2 3]\n [4 5 6 7]]\n[array([[0, 1],\n       [4, 5]]), array([[2, 3],\n       [6, 7]])]\n[array([[0, 1, 2, 3]]), array([[4, 5, 6, 7]])]\n[array([[0, 1],\n       [4, 5]]), array([[2, 3],\n       [6, 7]])]\n[array([[0, 1, 2, 3]]), array([[4, 5, 6, 7]])]\n"
     ]
    }
   ],
   "source": [
    "import numpy as np\n",
    "arr11 = np.arange(8).reshape((2, 4))\n",
    "print(arr11)\n",
    "\n",
    "print(np.hsplit(arr11, 2))\n",
    "print(np.vsplit(arr11, 2))\n",
    "\n",
    "print(np.split(arr11, 2, axis=1))\n",
    "print(np.split(arr11, 2, axis=0))"
   ]
  },
  {
   "cell_type": "markdown",
   "metadata": {},
   "source": [
    "## np.any 、np.all"
   ]
  },
  {
   "cell_type": "code",
   "execution_count": 33,
   "metadata": {
    "scrolled": true
   },
   "outputs": [
    {
     "name": "stdout",
     "output_type": "stream",
     "text": [
      "True\n",
      "False\n",
      "False\n",
      "True\n"
     ]
    }
   ],
   "source": [
    "arr12 = np.array([True, True, False])\n",
    "arr13 = np.array([True, True, True])\n",
    "arr14 = np.array([False, False, False])\n",
    "\n",
    "print(np.any(arr12))\n",
    "print(np.any(arr14))\n",
    "\n",
    "print(np.all(arr12))\n",
    "print(np.all(arr13))"
   ]
  },
  {
   "cell_type": "markdown",
   "metadata": {},
   "source": [
    "## 广播★ 对所有的进行操作"
   ]
  },
  {
   "cell_type": "code",
   "execution_count": 43,
   "metadata": {
    "scrolled": true
   },
   "outputs": [
    {
     "name": "stdout",
     "output_type": "stream",
     "text": [
      "[[ 0  1  2]\n",
      " [ 3  4  5]\n",
      " [ 6  7  8]\n",
      " [ 9 10 11]\n",
      " [12 13 14]]\n",
      "[[ 1  3  5]\n",
      " [ 4  6  8]\n",
      " [ 7  9 11]\n",
      " [10 12 14]\n",
      " [13 15 17]]\n",
      "[[ 1  3  5]\n",
      " [ 4  6  8]\n",
      " [ 7  9 11]\n",
      " [10 12 14]\n",
      " [13 15 17]]\n"
     ]
    }
   ],
   "source": [
    "arr15 = np.arange(15).reshape((5, 3))\n",
    "print(arr15)\n",
    "\n",
    "arr16 = np.array([1, 2, 3])\n",
    "print(arr15 + arr16)\n",
    "\n",
    "arr17 = np.array([1, 2, 3])\n",
    "print(arr15 + arr17)"
   ]
  },
  {
   "cell_type": "markdown",
   "metadata": {},
   "source": [
    "## 排序"
   ]
  },
  {
   "cell_type": "code",
   "execution_count": 45,
   "metadata": {
    "scrolled": false
   },
   "outputs": [
    {
     "name": "stdout",
     "output_type": "stream",
     "text": [
      "[2, 3, 4]\n",
      "[4 3 2]\n",
      "[2 1 0]\n"
     ]
    }
   ],
   "source": [
    "\n",
    "arr21 = np.array([4, 3, 2])\n",
    "\n",
    "print(sorted(arr21))  # 返回临时排序的列表\n",
    "print(arr21)  # 原数组\n",
    "\n",
    "print(arr21.argsort())  # 排序后的初始下标"
   ]
  },
  {
   "cell_type": "code",
   "execution_count": 46,
   "metadata": {},
   "outputs": [
    {
     "name": "stdout",
     "output_type": "stream",
     "text": [
      "[2 3 4]\n"
     ]
    }
   ],
   "source": [
    "arr21.sort()  # 不返回值，只进行排序操作\n",
    "print(arr21)  # 排序后数组"
   ]
  },
  {
   "cell_type": "markdown",
   "metadata": {},
   "source": [
    "## np.multiply（）、np.dot（）和星号（*）三种乘法运算的区别★"
   ]
  },
  {
   "cell_type": "code",
   "execution_count": 4,
   "metadata": {},
   "outputs": [
    {
     "data": {
      "text/plain": [
       "array([[ 5, 12],\n",
       "       [21, 32]])"
      ]
     },
     "execution_count": 4,
     "metadata": {},
     "output_type": "execute_result"
    }
   ],
   "source": [
    "# np.multiply()函数\n",
    "# 对应位置相乘，输出与相乘数组/矩阵的大小一致\n",
    "arr_1 = np.array([[1, 2],\n",
    "                  [3, 4]])\n",
    "arr_2 = np.array([[5, 6],\n",
    "                  [7, 8]])\n",
    "\n",
    "np.multiply(arr_1, arr_2)"
   ]
  },
  {
   "cell_type": "code",
   "execution_count": 5,
   "metadata": {},
   "outputs": [
    {
     "data": {
      "text/plain": [
       "4"
      ]
     },
     "execution_count": 5,
     "metadata": {},
     "output_type": "execute_result"
    }
   ],
   "source": [
    "# np.dot()函数\n",
    "# 对于秩为1的数组，执行对应位置相乘，然后再相加，可以理解为向量点积\n",
    "arr_3 = np.array([0, 1, 2])\n",
    "arr_4 = np.array([3, 2, 1])\n",
    "\n",
    "np.dot(arr_3, arr_4)"
   ]
  },
  {
   "cell_type": "code",
   "execution_count": 6,
   "metadata": {
    "scrolled": true
   },
   "outputs": [
    {
     "data": {
      "text/plain": [
       "array([[19, 22],\n",
       "       [43, 50]])"
      ]
     },
     "execution_count": 6,
     "metadata": {},
     "output_type": "execute_result"
    }
   ],
   "source": [
    "# np.dot()函数\n",
    "# 对于秩不为1的二维数组，执行矩阵乘法运算\n",
    "arr_1 = np.array([[1, 2],\n",
    "                  [3, 4]])\n",
    "arr_2 = np.array([[5, 6],\n",
    "                  [7, 8]])\n",
    "\n",
    "np.dot(arr_1, arr_2)"
   ]
  },
  {
   "cell_type": "code",
   "execution_count": 7,
   "metadata": {},
   "outputs": [
    {
     "data": {
      "text/plain": [
       "array([[ 5, 12],\n",
       "       [21, 32]])"
      ]
     },
     "execution_count": 7,
     "metadata": {},
     "output_type": "execute_result"
    }
   ],
   "source": [
    "# 星号（*）\n",
    "# 对数组执行对应位置相乘\n",
    "arr_1 * arr_2"
   ]
  },
  {
   "cell_type": "markdown",
   "metadata": {},
   "source": [
    "## 几个重要的函数"
   ]
  },
  {
   "cell_type": "code",
   "execution_count": 47,
   "metadata": {
    "scrolled": true
   },
   "outputs": [
    {
     "name": "stdout",
     "output_type": "stream",
     "text": [
      "[1 2 3 4]\n"
     ]
    }
   ],
   "source": [
    "# 几个重要函数\n",
    "arr22 = np.array([3, 4, 2, 1, 1, 3, 2, 4])\n",
    "\n",
    "print(np.unique(arr22))"
   ]
  },
  {
   "cell_type": "code",
   "execution_count": 48,
   "metadata": {
    "scrolled": true
   },
   "outputs": [
    {
     "name": "stdout",
     "output_type": "stream",
     "text": [
      "[2 3 4 2 3 4 2 3 4 2 3 4 2 3 4]\n"
     ]
    }
   ],
   "source": [
    "print(np.tile(arr21, 5))"
   ]
  },
  {
   "cell_type": "code",
   "execution_count": 51,
   "metadata": {
    "scrolled": false
   },
   "outputs": [
    {
     "name": "stdout",
     "output_type": "stream",
     "text": [
      "[2 2 2 3 3 4]\n"
     ]
    }
   ],
   "source": [
    "print(np.repeat(arr21, [3, 2, 1]))"
   ]
  },
  {
   "cell_type": "code",
   "execution_count": 54,
   "metadata": {},
   "outputs": [
    {
     "name": "stdout",
     "output_type": "stream",
     "text": [
      "[[0 1 2]\n",
      " [3 4 5]]\n",
      "[[0 0 1 1 2 2]\n",
      " [3 3 4 4 5 5]]\n",
      "[[0 1 2]\n",
      " [0 1 2]\n",
      " [3 4 5]\n",
      " [3 4 5]]\n",
      "[[0 1 2 0 1 2]\n",
      " [3 4 5 3 4 5]]\n",
      "[[0 1 2 0 1 2]\n",
      " [3 4 5 3 4 5]]\n"
     ]
    }
   ],
   "source": [
    "arr23 = np.arange(6).reshape((2, 3))\n",
    "print(arr23)\n",
    "print(np.repeat(arr23, 2, axis=1))\n",
    "print(np.repeat(arr23, 2, axis=0))\n",
    "\n",
    "print(np.tile(arr23, 2))\n",
    "print(np.tile(arr23, 2))"
   ]
  },
  {
   "cell_type": "code",
   "execution_count": 58,
   "metadata": {},
   "outputs": [
    {
     "name": "stdout",
     "output_type": "stream",
     "text": [
      "[3 5 7]\n",
      "2.5\n",
      "1.707825127659933\n",
      "2.9166666666666665\n",
      "[1 1 1]\n",
      "[0 0]\n",
      "[ 0  1  3  6 10 15]\n"
     ]
    }
   ],
   "source": [
    "print(arr23.sum(axis=0))\n",
    "print(arr23.mean())\n",
    "print(arr23.std())\n",
    "print(arr23.var())\n",
    "print(arr23.argmax(axis=0))\n",
    "print(arr23.argmin(axis=1))\n",
    "print(arr23.cumsum())"
   ]
  },
  {
   "cell_type": "code",
   "execution_count": null,
   "metadata": {},
   "outputs": [],
   "source": []
  }
 ],
 "metadata": {
  "kernelspec": {
   "display_name": "Python 3",
   "language": "python",
   "name": "python3"
  },
  "language_info": {
   "codemirror_mode": {
    "name": "ipython",
    "version": 3
   },
   "file_extension": ".py",
   "mimetype": "text/x-python",
   "name": "python",
   "nbconvert_exporter": "python",
   "pygments_lexer": "ipython3",
   "version": "3.6.6-final"
  },
  "toc": {
   "base_numbering": 1,
   "nav_menu": {},
   "number_sections": true,
   "sideBar": true,
   "skip_h1_title": true,
   "title_cell": "Table of Contents",
   "title_sidebar": "Contents",
   "toc_cell": true,
   "toc_position": {},
   "toc_section_display": true,
   "toc_window_display": false
  }
 },
 "nbformat": 4,
 "nbformat_minor": 2
}